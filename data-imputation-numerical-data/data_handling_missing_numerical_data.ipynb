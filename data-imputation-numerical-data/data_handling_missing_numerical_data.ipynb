{
  "nbformat": 4,
  "nbformat_minor": 0,
  "metadata": {
    "colab": {
      "name": "campusX-data-handling-missing-numerical-data.ipynb",
      "provenance": [],
      "collapsed_sections": []
    },
    "kernelspec": {
      "name": "python3",
      "display_name": "Python 3"
    },
    "language_info": {
      "name": "python"
    }
  },
  "cells": [
    {
      "cell_type": "markdown",
      "source": [
        "### Import Libraries and Packages"
      ],
      "metadata": {
        "id": "vi42m0BYlJ6V"
      }
    },
    {
      "cell_type": "code",
      "execution_count": 1,
      "metadata": {
        "id": "YtWyLZDOlFv5"
      },
      "outputs": [],
      "source": [
        "import pandas as pd\n",
        "import numpy as np\n",
        "import matplotlib.pyplot as plt\n",
        "\n",
        "from sklearn.model_selection import train_test_split\n",
        "from sklearn.impute import SimpleImputer\n",
        "from sklearn.compose import ColumnTransformer"
      ]
    },
    {
      "cell_type": "code",
      "source": [
        "df = pd.read_csv('titanic_toy.csv')\n",
        "df.sample(5)"
      ],
      "metadata": {
        "colab": {
          "base_uri": "https://localhost:8080/",
          "height": 206
        },
        "id": "XpTzSVKplnr3",
        "outputId": "67a04cad-d70f-4129-bba6-4946886eaa02"
      },
      "execution_count": 2,
      "outputs": [
        {
          "output_type": "execute_result",
          "data": {
            "text/plain": [
              "      Age     Fare  Family  Survived\n",
              "695  52.0  13.5000       0         0\n",
              "704  26.0   7.8542       1         0\n",
              "671  31.0  52.0000       1         0\n",
              "588  22.0   8.0500       0         0\n",
              "886  27.0  13.0000       0         0"
            ],
            "text/html": [
              "\n",
              "  <div id=\"df-a940438b-5558-4dd9-8696-b7f57516f743\">\n",
              "    <div class=\"colab-df-container\">\n",
              "      <div>\n",
              "<style scoped>\n",
              "    .dataframe tbody tr th:only-of-type {\n",
              "        vertical-align: middle;\n",
              "    }\n",
              "\n",
              "    .dataframe tbody tr th {\n",
              "        vertical-align: top;\n",
              "    }\n",
              "\n",
              "    .dataframe thead th {\n",
              "        text-align: right;\n",
              "    }\n",
              "</style>\n",
              "<table border=\"1\" class=\"dataframe\">\n",
              "  <thead>\n",
              "    <tr style=\"text-align: right;\">\n",
              "      <th></th>\n",
              "      <th>Age</th>\n",
              "      <th>Fare</th>\n",
              "      <th>Family</th>\n",
              "      <th>Survived</th>\n",
              "    </tr>\n",
              "  </thead>\n",
              "  <tbody>\n",
              "    <tr>\n",
              "      <th>695</th>\n",
              "      <td>52.0</td>\n",
              "      <td>13.5000</td>\n",
              "      <td>0</td>\n",
              "      <td>0</td>\n",
              "    </tr>\n",
              "    <tr>\n",
              "      <th>704</th>\n",
              "      <td>26.0</td>\n",
              "      <td>7.8542</td>\n",
              "      <td>1</td>\n",
              "      <td>0</td>\n",
              "    </tr>\n",
              "    <tr>\n",
              "      <th>671</th>\n",
              "      <td>31.0</td>\n",
              "      <td>52.0000</td>\n",
              "      <td>1</td>\n",
              "      <td>0</td>\n",
              "    </tr>\n",
              "    <tr>\n",
              "      <th>588</th>\n",
              "      <td>22.0</td>\n",
              "      <td>8.0500</td>\n",
              "      <td>0</td>\n",
              "      <td>0</td>\n",
              "    </tr>\n",
              "    <tr>\n",
              "      <th>886</th>\n",
              "      <td>27.0</td>\n",
              "      <td>13.0000</td>\n",
              "      <td>0</td>\n",
              "      <td>0</td>\n",
              "    </tr>\n",
              "  </tbody>\n",
              "</table>\n",
              "</div>\n",
              "      <button class=\"colab-df-convert\" onclick=\"convertToInteractive('df-a940438b-5558-4dd9-8696-b7f57516f743')\"\n",
              "              title=\"Convert this dataframe to an interactive table.\"\n",
              "              style=\"display:none;\">\n",
              "        \n",
              "  <svg xmlns=\"http://www.w3.org/2000/svg\" height=\"24px\"viewBox=\"0 0 24 24\"\n",
              "       width=\"24px\">\n",
              "    <path d=\"M0 0h24v24H0V0z\" fill=\"none\"/>\n",
              "    <path d=\"M18.56 5.44l.94 2.06.94-2.06 2.06-.94-2.06-.94-.94-2.06-.94 2.06-2.06.94zm-11 1L8.5 8.5l.94-2.06 2.06-.94-2.06-.94L8.5 2.5l-.94 2.06-2.06.94zm10 10l.94 2.06.94-2.06 2.06-.94-2.06-.94-.94-2.06-.94 2.06-2.06.94z\"/><path d=\"M17.41 7.96l-1.37-1.37c-.4-.4-.92-.59-1.43-.59-.52 0-1.04.2-1.43.59L10.3 9.45l-7.72 7.72c-.78.78-.78 2.05 0 2.83L4 21.41c.39.39.9.59 1.41.59.51 0 1.02-.2 1.41-.59l7.78-7.78 2.81-2.81c.8-.78.8-2.07 0-2.86zM5.41 20L4 18.59l7.72-7.72 1.47 1.35L5.41 20z\"/>\n",
              "  </svg>\n",
              "      </button>\n",
              "      \n",
              "  <style>\n",
              "    .colab-df-container {\n",
              "      display:flex;\n",
              "      flex-wrap:wrap;\n",
              "      gap: 12px;\n",
              "    }\n",
              "\n",
              "    .colab-df-convert {\n",
              "      background-color: #E8F0FE;\n",
              "      border: none;\n",
              "      border-radius: 50%;\n",
              "      cursor: pointer;\n",
              "      display: none;\n",
              "      fill: #1967D2;\n",
              "      height: 32px;\n",
              "      padding: 0 0 0 0;\n",
              "      width: 32px;\n",
              "    }\n",
              "\n",
              "    .colab-df-convert:hover {\n",
              "      background-color: #E2EBFA;\n",
              "      box-shadow: 0px 1px 2px rgba(60, 64, 67, 0.3), 0px 1px 3px 1px rgba(60, 64, 67, 0.15);\n",
              "      fill: #174EA6;\n",
              "    }\n",
              "\n",
              "    [theme=dark] .colab-df-convert {\n",
              "      background-color: #3B4455;\n",
              "      fill: #D2E3FC;\n",
              "    }\n",
              "\n",
              "    [theme=dark] .colab-df-convert:hover {\n",
              "      background-color: #434B5C;\n",
              "      box-shadow: 0px 1px 3px 1px rgba(0, 0, 0, 0.15);\n",
              "      filter: drop-shadow(0px 1px 2px rgba(0, 0, 0, 0.3));\n",
              "      fill: #FFFFFF;\n",
              "    }\n",
              "  </style>\n",
              "\n",
              "      <script>\n",
              "        const buttonEl =\n",
              "          document.querySelector('#df-a940438b-5558-4dd9-8696-b7f57516f743 button.colab-df-convert');\n",
              "        buttonEl.style.display =\n",
              "          google.colab.kernel.accessAllowed ? 'block' : 'none';\n",
              "\n",
              "        async function convertToInteractive(key) {\n",
              "          const element = document.querySelector('#df-a940438b-5558-4dd9-8696-b7f57516f743');\n",
              "          const dataTable =\n",
              "            await google.colab.kernel.invokeFunction('convertToInteractive',\n",
              "                                                     [key], {});\n",
              "          if (!dataTable) return;\n",
              "\n",
              "          const docLinkHtml = 'Like what you see? Visit the ' +\n",
              "            '<a target=\"_blank\" href=https://colab.research.google.com/notebooks/data_table.ipynb>data table notebook</a>'\n",
              "            + ' to learn more about interactive tables.';\n",
              "          element.innerHTML = '';\n",
              "          dataTable['output_type'] = 'display_data';\n",
              "          await google.colab.output.renderOutput(dataTable, element);\n",
              "          const docLink = document.createElement('div');\n",
              "          docLink.innerHTML = docLinkHtml;\n",
              "          element.appendChild(docLink);\n",
              "        }\n",
              "      </script>\n",
              "    </div>\n",
              "  </div>\n",
              "  "
            ]
          },
          "metadata": {},
          "execution_count": 2
        }
      ]
    },
    {
      "cell_type": "code",
      "source": [
        "df.info()"
      ],
      "metadata": {
        "colab": {
          "base_uri": "https://localhost:8080/"
        },
        "id": "DZGhaBJrlxG_",
        "outputId": "d1b96f04-ccbb-45a4-ff1c-2c3bc0ffd881"
      },
      "execution_count": 3,
      "outputs": [
        {
          "output_type": "stream",
          "name": "stdout",
          "text": [
            "<class 'pandas.core.frame.DataFrame'>\n",
            "RangeIndex: 891 entries, 0 to 890\n",
            "Data columns (total 4 columns):\n",
            " #   Column    Non-Null Count  Dtype  \n",
            "---  ------    --------------  -----  \n",
            " 0   Age       714 non-null    float64\n",
            " 1   Fare      846 non-null    float64\n",
            " 2   Family    891 non-null    int64  \n",
            " 3   Survived  891 non-null    int64  \n",
            "dtypes: float64(2), int64(2)\n",
            "memory usage: 28.0 KB\n"
          ]
        }
      ]
    },
    {
      "cell_type": "code",
      "source": [
        "# Check for percentage of null values\n",
        "df.isnull().mean()"
      ],
      "metadata": {
        "colab": {
          "base_uri": "https://localhost:8080/"
        },
        "id": "tPlRffholx35",
        "outputId": "2f9eecf9-e7a6-48c4-fb2b-5dcdbb82caa8"
      },
      "execution_count": 4,
      "outputs": [
        {
          "output_type": "execute_result",
          "data": {
            "text/plain": [
              "Age         0.198653\n",
              "Fare        0.050505\n",
              "Family      0.000000\n",
              "Survived    0.000000\n",
              "dtype: float64"
            ]
          },
          "metadata": {},
          "execution_count": 4
        }
      ]
    },
    {
      "cell_type": "markdown",
      "source": [
        "### Impute missing values with Median and Mean\n",
        "\n"
      ],
      "metadata": {
        "id": "16DSP3iOl9QN"
      }
    },
    {
      "cell_type": "code",
      "source": [
        "# Separate Independent and Dependent Features\n",
        "X = df.drop(columns=['Survived'])\n",
        "y = df['Survived']"
      ],
      "metadata": {
        "id": "d-GYp-Vol6yJ"
      },
      "execution_count": 5,
      "outputs": []
    },
    {
      "cell_type": "code",
      "source": [
        "# Perform train test split\n",
        "X_train,X_test,y_train,y_test = train_test_split(X,y,test_size=0.2,random_state=2)"
      ],
      "metadata": {
        "id": "RUqN-EDtmHlr"
      },
      "execution_count": 6,
      "outputs": []
    },
    {
      "cell_type": "code",
      "source": [
        "X_train.shape, X_test.shape"
      ],
      "metadata": {
        "colab": {
          "base_uri": "https://localhost:8080/"
        },
        "id": "pdwVmKMAnqBW",
        "outputId": "2c77a007-18a3-4601-ba68-34decacffcfb"
      },
      "execution_count": 7,
      "outputs": [
        {
          "output_type": "execute_result",
          "data": {
            "text/plain": [
              "((712, 3), (179, 3))"
            ]
          },
          "metadata": {},
          "execution_count": 7
        }
      ]
    },
    {
      "cell_type": "code",
      "source": [
        "# Check percentage of nulls values in training dataset\n",
        "X_train.isnull().mean()"
      ],
      "metadata": {
        "colab": {
          "base_uri": "https://localhost:8080/"
        },
        "id": "GzyAFB_UnsWS",
        "outputId": "1846aeff-19e8-44e2-e138-c85d15c5accb"
      },
      "execution_count": 8,
      "outputs": [
        {
          "output_type": "execute_result",
          "data": {
            "text/plain": [
              "Age       0.207865\n",
              "Fare      0.050562\n",
              "Family    0.000000\n",
              "dtype: float64"
            ]
          },
          "metadata": {},
          "execution_count": 8
        }
      ]
    },
    {
      "cell_type": "code",
      "source": [
        "# Calculate Mean and Median values for Age and Fare Features\n",
        "mean_age = X_train['Age'].mean()\n",
        "median_age = X_train['Age'].median()\n",
        "\n",
        "mean_fare = X_train['Fare'].mean()\n",
        "median_fare = X_train['Fare'].median()"
      ],
      "metadata": {
        "id": "UVkaoAeMnz5q"
      },
      "execution_count": 9,
      "outputs": []
    },
    {
      "cell_type": "code",
      "source": [
        "# Impute missing values with Mean and Median\n",
        "X_train['Age_median'] = X_train['Age'].fillna(median_age)\n",
        "X_train['Age_mean'] = X_train['Age'].fillna(mean_age)\n",
        "\n",
        "X_train['Fare_median'] = X_train['Fare'].fillna(median_fare)\n",
        "X_train['Fare_mean'] = X_train['Fare'].fillna(mean_fare)"
      ],
      "metadata": {
        "id": "ASXcBCXpn8jH"
      },
      "execution_count": 10,
      "outputs": []
    },
    {
      "cell_type": "code",
      "source": [
        "X_train.sample(5)"
      ],
      "metadata": {
        "colab": {
          "base_uri": "https://localhost:8080/",
          "height": 206
        },
        "id": "QjwkFhk5oCgL",
        "outputId": "43b52652-0076-454f-a2d0-ab560ac395d4"
      },
      "execution_count": 11,
      "outputs": [
        {
          "output_type": "execute_result",
          "data": {
            "text/plain": [
              "      Age     Fare  Family  Age_median   Age_mean  Fare_median  Fare_mean\n",
              "220  16.0   8.0500       0       16.00  16.000000       8.0500     8.0500\n",
              "837   NaN   8.0500       0       28.75  29.785904       8.0500     8.0500\n",
              "359   NaN   7.8792       0       28.75  29.785904       7.8792     7.8792\n",
              "783   NaN  23.4500       3       28.75  29.785904      23.4500    23.4500\n",
              "324   NaN  69.5500      10       28.75  29.785904      69.5500    69.5500"
            ],
            "text/html": [
              "\n",
              "  <div id=\"df-11eb6714-d9c1-44bb-8f6a-e10be17b6694\">\n",
              "    <div class=\"colab-df-container\">\n",
              "      <div>\n",
              "<style scoped>\n",
              "    .dataframe tbody tr th:only-of-type {\n",
              "        vertical-align: middle;\n",
              "    }\n",
              "\n",
              "    .dataframe tbody tr th {\n",
              "        vertical-align: top;\n",
              "    }\n",
              "\n",
              "    .dataframe thead th {\n",
              "        text-align: right;\n",
              "    }\n",
              "</style>\n",
              "<table border=\"1\" class=\"dataframe\">\n",
              "  <thead>\n",
              "    <tr style=\"text-align: right;\">\n",
              "      <th></th>\n",
              "      <th>Age</th>\n",
              "      <th>Fare</th>\n",
              "      <th>Family</th>\n",
              "      <th>Age_median</th>\n",
              "      <th>Age_mean</th>\n",
              "      <th>Fare_median</th>\n",
              "      <th>Fare_mean</th>\n",
              "    </tr>\n",
              "  </thead>\n",
              "  <tbody>\n",
              "    <tr>\n",
              "      <th>220</th>\n",
              "      <td>16.0</td>\n",
              "      <td>8.0500</td>\n",
              "      <td>0</td>\n",
              "      <td>16.00</td>\n",
              "      <td>16.000000</td>\n",
              "      <td>8.0500</td>\n",
              "      <td>8.0500</td>\n",
              "    </tr>\n",
              "    <tr>\n",
              "      <th>837</th>\n",
              "      <td>NaN</td>\n",
              "      <td>8.0500</td>\n",
              "      <td>0</td>\n",
              "      <td>28.75</td>\n",
              "      <td>29.785904</td>\n",
              "      <td>8.0500</td>\n",
              "      <td>8.0500</td>\n",
              "    </tr>\n",
              "    <tr>\n",
              "      <th>359</th>\n",
              "      <td>NaN</td>\n",
              "      <td>7.8792</td>\n",
              "      <td>0</td>\n",
              "      <td>28.75</td>\n",
              "      <td>29.785904</td>\n",
              "      <td>7.8792</td>\n",
              "      <td>7.8792</td>\n",
              "    </tr>\n",
              "    <tr>\n",
              "      <th>783</th>\n",
              "      <td>NaN</td>\n",
              "      <td>23.4500</td>\n",
              "      <td>3</td>\n",
              "      <td>28.75</td>\n",
              "      <td>29.785904</td>\n",
              "      <td>23.4500</td>\n",
              "      <td>23.4500</td>\n",
              "    </tr>\n",
              "    <tr>\n",
              "      <th>324</th>\n",
              "      <td>NaN</td>\n",
              "      <td>69.5500</td>\n",
              "      <td>10</td>\n",
              "      <td>28.75</td>\n",
              "      <td>29.785904</td>\n",
              "      <td>69.5500</td>\n",
              "      <td>69.5500</td>\n",
              "    </tr>\n",
              "  </tbody>\n",
              "</table>\n",
              "</div>\n",
              "      <button class=\"colab-df-convert\" onclick=\"convertToInteractive('df-11eb6714-d9c1-44bb-8f6a-e10be17b6694')\"\n",
              "              title=\"Convert this dataframe to an interactive table.\"\n",
              "              style=\"display:none;\">\n",
              "        \n",
              "  <svg xmlns=\"http://www.w3.org/2000/svg\" height=\"24px\"viewBox=\"0 0 24 24\"\n",
              "       width=\"24px\">\n",
              "    <path d=\"M0 0h24v24H0V0z\" fill=\"none\"/>\n",
              "    <path d=\"M18.56 5.44l.94 2.06.94-2.06 2.06-.94-2.06-.94-.94-2.06-.94 2.06-2.06.94zm-11 1L8.5 8.5l.94-2.06 2.06-.94-2.06-.94L8.5 2.5l-.94 2.06-2.06.94zm10 10l.94 2.06.94-2.06 2.06-.94-2.06-.94-.94-2.06-.94 2.06-2.06.94z\"/><path d=\"M17.41 7.96l-1.37-1.37c-.4-.4-.92-.59-1.43-.59-.52 0-1.04.2-1.43.59L10.3 9.45l-7.72 7.72c-.78.78-.78 2.05 0 2.83L4 21.41c.39.39.9.59 1.41.59.51 0 1.02-.2 1.41-.59l7.78-7.78 2.81-2.81c.8-.78.8-2.07 0-2.86zM5.41 20L4 18.59l7.72-7.72 1.47 1.35L5.41 20z\"/>\n",
              "  </svg>\n",
              "      </button>\n",
              "      \n",
              "  <style>\n",
              "    .colab-df-container {\n",
              "      display:flex;\n",
              "      flex-wrap:wrap;\n",
              "      gap: 12px;\n",
              "    }\n",
              "\n",
              "    .colab-df-convert {\n",
              "      background-color: #E8F0FE;\n",
              "      border: none;\n",
              "      border-radius: 50%;\n",
              "      cursor: pointer;\n",
              "      display: none;\n",
              "      fill: #1967D2;\n",
              "      height: 32px;\n",
              "      padding: 0 0 0 0;\n",
              "      width: 32px;\n",
              "    }\n",
              "\n",
              "    .colab-df-convert:hover {\n",
              "      background-color: #E2EBFA;\n",
              "      box-shadow: 0px 1px 2px rgba(60, 64, 67, 0.3), 0px 1px 3px 1px rgba(60, 64, 67, 0.15);\n",
              "      fill: #174EA6;\n",
              "    }\n",
              "\n",
              "    [theme=dark] .colab-df-convert {\n",
              "      background-color: #3B4455;\n",
              "      fill: #D2E3FC;\n",
              "    }\n",
              "\n",
              "    [theme=dark] .colab-df-convert:hover {\n",
              "      background-color: #434B5C;\n",
              "      box-shadow: 0px 1px 3px 1px rgba(0, 0, 0, 0.15);\n",
              "      filter: drop-shadow(0px 1px 2px rgba(0, 0, 0, 0.3));\n",
              "      fill: #FFFFFF;\n",
              "    }\n",
              "  </style>\n",
              "\n",
              "      <script>\n",
              "        const buttonEl =\n",
              "          document.querySelector('#df-11eb6714-d9c1-44bb-8f6a-e10be17b6694 button.colab-df-convert');\n",
              "        buttonEl.style.display =\n",
              "          google.colab.kernel.accessAllowed ? 'block' : 'none';\n",
              "\n",
              "        async function convertToInteractive(key) {\n",
              "          const element = document.querySelector('#df-11eb6714-d9c1-44bb-8f6a-e10be17b6694');\n",
              "          const dataTable =\n",
              "            await google.colab.kernel.invokeFunction('convertToInteractive',\n",
              "                                                     [key], {});\n",
              "          if (!dataTable) return;\n",
              "\n",
              "          const docLinkHtml = 'Like what you see? Visit the ' +\n",
              "            '<a target=\"_blank\" href=https://colab.research.google.com/notebooks/data_table.ipynb>data table notebook</a>'\n",
              "            + ' to learn more about interactive tables.';\n",
              "          element.innerHTML = '';\n",
              "          dataTable['output_type'] = 'display_data';\n",
              "          await google.colab.output.renderOutput(dataTable, element);\n",
              "          const docLink = document.createElement('div');\n",
              "          docLink.innerHTML = docLinkHtml;\n",
              "          element.appendChild(docLink);\n",
              "        }\n",
              "      </script>\n",
              "    </div>\n",
              "  </div>\n",
              "  "
            ]
          },
          "metadata": {},
          "execution_count": 11
        }
      ]
    },
    {
      "cell_type": "code",
      "source": [
        "# Check the variance of the features before and after imputation\n",
        "# Ideally there should not be much change in variance. If there is \n",
        "# large variance for a feature, better not to impute that value\n",
        "# Here, variance of Age has reduced to a greater extent than the Fare feature\n",
        "\n",
        "print('Original Age variable variance: ', X_train['Age'].var())\n",
        "print('Age Variance after median imputation: ', X_train['Age_median'].var())\n",
        "print('Age Variance after mean imputation: ', X_train['Age_mean'].var())\n",
        "\n",
        "print('Original Fare variable variance: ', X_train['Fare'].var())\n",
        "print('Fare Variance after median imputation: ', X_train['Fare_median'].var())\n",
        "print('Fare Variance after mean imputation: ', X_train['Fare_mean'].var())"
      ],
      "metadata": {
        "colab": {
          "base_uri": "https://localhost:8080/"
        },
        "id": "MeYJOXP9oE_O",
        "outputId": "2162b5b4-ddd0-427f-ecbd-303fdf76c90f"
      },
      "execution_count": 12,
      "outputs": [
        {
          "output_type": "stream",
          "name": "stdout",
          "text": [
            "Original Age variable variance:  204.34951339046142\n",
            "Age Variance after median imputation:  161.98956633460548\n",
            "Age Variance after mean imputation:  161.81262452718676\n",
            "Original Fare variable variance:  2448.1979137063163\n",
            "Fare Variance after median imputation:  2340.09102197536\n",
            "Fare Variance after mean imputation:  2324.2385256705534\n"
          ]
        }
      ]
    },
    {
      "cell_type": "code",
      "source": [
        "# Also, check the PDF of the features, before and after the imputation\n",
        "# Here we can see for Age feature, the PDF has changed drastically whereas for \n",
        "# Fare feature the PDF is almost unchanged after imputation\n",
        "\n",
        "fig = plt.figure()\n",
        "ax = fig.add_subplot(111)\n",
        "\n",
        "# original variable distribution\n",
        "X_train['Age'].plot(kind='kde', ax=ax)\n",
        "\n",
        "# variable imputed with the median\n",
        "X_train['Age_median'].plot(kind='kde', ax=ax, color='red')\n",
        "\n",
        "# variable imputed with the mean\n",
        "X_train['Age_mean'].plot(kind='kde', ax=ax, color='green')\n",
        "\n",
        "# add legends\n",
        "lines, labels = ax.get_legend_handles_labels()\n",
        "ax.legend(lines, labels, loc='best')"
      ],
      "metadata": {
        "colab": {
          "base_uri": "https://localhost:8080/",
          "height": 286
        },
        "id": "6PN85KZjoYd1",
        "outputId": "f1191d7f-a52c-4e65-cc9c-ef5718ed85eb"
      },
      "execution_count": 13,
      "outputs": [
        {
          "output_type": "execute_result",
          "data": {
            "text/plain": [
              "<matplotlib.legend.Legend at 0x7f1a110cc8d0>"
            ]
          },
          "metadata": {},
          "execution_count": 13
        },
        {
          "output_type": "display_data",
          "data": {
            "text/plain": [
              "<Figure size 432x288 with 1 Axes>"
            ],
            "image/png": "[encoded data removed]"
          },
          "metadata": {
            "needs_background": "light"
          }
        }
      ]
    },
    {
      "cell_type": "code",
      "source": [
        "fig = plt.figure()\n",
        "ax = fig.add_subplot(111)\n",
        "\n",
        "# original variable distribution\n",
        "X_train['Fare'].plot(kind='kde', ax=ax)\n",
        "\n",
        "# variable imputed with the median\n",
        "X_train['Fare_median'].plot(kind='kde', ax=ax, color='red')\n",
        "\n",
        "# variable imputed with the mean\n",
        "X_train['Fare_mean'].plot(kind='kde', ax=ax, color='green')\n",
        "\n",
        "# add legends\n",
        "lines, labels = ax.get_legend_handles_labels()\n",
        "ax.legend(lines, labels, loc='best')"
      ],
      "metadata": {
        "colab": {
          "base_uri": "https://localhost:8080/",
          "height": 283
        },
        "id": "keCgvmYQoyrw",
        "outputId": "f9d6ed75-33e3-434c-dcfb-cf639f960e6b"
      },
      "execution_count": 14,
      "outputs": [
        {
          "output_type": "execute_result",
          "data": {
            "text/plain": [
              "<matplotlib.legend.Legend at 0x7f1a10f5da10>"
            ]
          },
          "metadata": {},
          "execution_count": 14
        },
        {
          "output_type": "display_data",
          "data": {
            "text/plain": [
              "<Figure size 432x288 with 1 Axes>"
            ],
            "image/png": "[encoded data removed]"
          },
          "metadata": {
            "needs_background": "light"
          }
        }
      ]
    },
    {
      "cell_type": "code",
      "source": [
        "# Check if the covarianvce has changed after imputation\n",
        "X_train.cov()"
      ],
      "metadata": {
        "colab": {
          "base_uri": "https://localhost:8080/",
          "height": 269
        },
        "id": "A1iN5MGFo1CY",
        "outputId": "b56ae4da-7ecf-4f1c-f485-5875dfc64952"
      },
      "execution_count": 15,
      "outputs": [
        {
          "output_type": "execute_result",
          "data": {
            "text/plain": [
              "                    Age         Fare     Family  Age_median    Age_mean  \\\n",
              "Age          204.349513    70.719262  -6.498901  204.349513  204.349513   \n",
              "Fare          70.719262  2448.197914  17.258917   57.957599   55.603719   \n",
              "Family        -6.498901    17.258917   2.735252   -5.112563   -5.146106   \n",
              "Age_median   204.349513    57.957599  -5.112563  161.989566  161.812625   \n",
              "Age_mean     204.349513    55.603719  -5.146106  161.812625  161.812625   \n",
              "Fare_median   64.858859  2448.197914  16.476305   53.553455   51.358000   \n",
              "Fare_mean     66.665205  2448.197914  16.385048   55.023037   52.788341   \n",
              "\n",
              "             Fare_median    Fare_mean  \n",
              "Age            64.858859    66.665205  \n",
              "Fare         2448.197914  2448.197914  \n",
              "Family         16.476305    16.385048  \n",
              "Age_median     53.553455    55.023037  \n",
              "Age_mean       51.358000    52.788341  \n",
              "Fare_median  2340.091022  2324.238526  \n",
              "Fare_mean    2324.238526  2324.238526  "
            ],
            "text/html": [
              "\n",
              "  <div id=\"df-e494ced2-e1fd-49fc-bc4d-439a4d70cf0b\">\n",
              "    <div class=\"colab-df-container\">\n",
              "      <div>\n",
              "<style scoped>\n",
              "    .dataframe tbody tr th:only-of-type {\n",
              "        vertical-align: middle;\n",
              "    }\n",
              "\n",
              "    .dataframe tbody tr th {\n",
              "        vertical-align: top;\n",
              "    }\n",
              "\n",
              "    .dataframe thead th {\n",
              "        text-align: right;\n",
              "    }\n",
              "</style>\n",
              "<table border=\"1\" class=\"dataframe\">\n",
              "  <thead>\n",
              "    <tr style=\"text-align: right;\">\n",
              "      <th></th>\n",
              "      <th>Age</th>\n",
              "      <th>Fare</th>\n",
              "      <th>Family</th>\n",
              "      <th>Age_median</th>\n",
              "      <th>Age_mean</th>\n",
              "      <th>Fare_median</th>\n",
              "      <th>Fare_mean</th>\n",
              "    </tr>\n",
              "  </thead>\n",
              "  <tbody>\n",
              "    <tr>\n",
              "      <th>Age</th>\n",
              "      <td>204.349513</td>\n",
              "      <td>70.719262</td>\n",
              "      <td>-6.498901</td>\n",
              "      <td>204.349513</td>\n",
              "      <td>204.349513</td>\n",
              "      <td>64.858859</td>\n",
              "      <td>66.665205</td>\n",
              "    </tr>\n",
              "    <tr>\n",
              "      <th>Fare</th>\n",
              "      <td>70.719262</td>\n",
              "      <td>2448.197914</td>\n",
              "      <td>17.258917</td>\n",
              "      <td>57.957599</td>\n",
              "      <td>55.603719</td>\n",
              "      <td>2448.197914</td>\n",
              "      <td>2448.197914</td>\n",
              "    </tr>\n",
              "    <tr>\n",
              "      <th>Family</th>\n",
              "      <td>-6.498901</td>\n",
              "      <td>17.258917</td>\n",
              "      <td>2.735252</td>\n",
              "      <td>-5.112563</td>\n",
              "      <td>-5.146106</td>\n",
              "      <td>16.476305</td>\n",
              "      <td>16.385048</td>\n",
              "    </tr>\n",
              "    <tr>\n",
              "      <th>Age_median</th>\n",
              "      <td>204.349513</td>\n",
              "      <td>57.957599</td>\n",
              "      <td>-5.112563</td>\n",
              "      <td>161.989566</td>\n",
              "      <td>161.812625</td>\n",
              "      <td>53.553455</td>\n",
              "      <td>55.023037</td>\n",
              "    </tr>\n",
              "    <tr>\n",
              "      <th>Age_mean</th>\n",
              "      <td>204.349513</td>\n",
              "      <td>55.603719</td>\n",
              "      <td>-5.146106</td>\n",
              "      <td>161.812625</td>\n",
              "      <td>161.812625</td>\n",
              "      <td>51.358000</td>\n",
              "      <td>52.788341</td>\n",
              "    </tr>\n",
              "    <tr>\n",
              "      <th>Fare_median</th>\n",
              "      <td>64.858859</td>\n",
              "      <td>2448.197914</td>\n",
              "      <td>16.476305</td>\n",
              "      <td>53.553455</td>\n",
              "      <td>51.358000</td>\n",
              "      <td>2340.091022</td>\n",
              "      <td>2324.238526</td>\n",
              "    </tr>\n",
              "    <tr>\n",
              "      <th>Fare_mean</th>\n",
              "      <td>66.665205</td>\n",
              "      <td>2448.197914</td>\n",
              "      <td>16.385048</td>\n",
              "      <td>55.023037</td>\n",
              "      <td>52.788341</td>\n",
              "      <td>2324.238526</td>\n",
              "      <td>2324.238526</td>\n",
              "    </tr>\n",
              "  </tbody>\n",
              "</table>\n",
              "</div>\n",
              "      <button class=\"colab-df-convert\" onclick=\"convertToInteractive('df-e494ced2-e1fd-49fc-bc4d-439a4d70cf0b')\"\n",
              "              title=\"Convert this dataframe to an interactive table.\"\n",
              "              style=\"display:none;\">\n",
              "        \n",
              "  <svg xmlns=\"http://www.w3.org/2000/svg\" height=\"24px\"viewBox=\"0 0 24 24\"\n",
              "       width=\"24px\">\n",
              "    <path d=\"M0 0h24v24H0V0z\" fill=\"none\"/>\n",
              "    <path d=\"M18.56 5.44l.94 2.06.94-2.06 2.06-.94-2.06-.94-.94-2.06-.94 2.06-2.06.94zm-11 1L8.5 8.5l.94-2.06 2.06-.94-2.06-.94L8.5 2.5l-.94 2.06-2.06.94zm10 10l.94 2.06.94-2.06 2.06-.94-2.06-.94-.94-2.06-.94 2.06-2.06.94z\"/><path d=\"M17.41 7.96l-1.37-1.37c-.4-.4-.92-.59-1.43-.59-.52 0-1.04.2-1.43.59L10.3 9.45l-7.72 7.72c-.78.78-.78 2.05 0 2.83L4 21.41c.39.39.9.59 1.41.59.51 0 1.02-.2 1.41-.59l7.78-7.78 2.81-2.81c.8-.78.8-2.07 0-2.86zM5.41 20L4 18.59l7.72-7.72 1.47 1.35L5.41 20z\"/>\n",
              "  </svg>\n",
              "      </button>\n",
              "      \n",
              "  <style>\n",
              "    .colab-df-container {\n",
              "      display:flex;\n",
              "      flex-wrap:wrap;\n",
              "      gap: 12px;\n",
              "    }\n",
              "\n",
              "    .colab-df-convert {\n",
              "      background-color: #E8F0FE;\n",
              "      border: none;\n",
              "      border-radius: 50%;\n",
              "      cursor: pointer;\n",
              "      display: none;\n",
              "      fill: #1967D2;\n",
              "      height: 32px;\n",
              "      padding: 0 0 0 0;\n",
              "      width: 32px;\n",
              "    }\n",
              "\n",
              "    .colab-df-convert:hover {\n",
              "      background-color: #E2EBFA;\n",
              "      box-shadow: 0px 1px 2px rgba(60, 64, 67, 0.3), 0px 1px 3px 1px rgba(60, 64, 67, 0.15);\n",
              "      fill: #174EA6;\n",
              "    }\n",
              "\n",
              "    [theme=dark] .colab-df-convert {\n",
              "      background-color: #3B4455;\n",
              "      fill: #D2E3FC;\n",
              "    }\n",
              "\n",
              "    [theme=dark] .colab-df-convert:hover {\n",
              "      background-color: #434B5C;\n",
              "      box-shadow: 0px 1px 3px 1px rgba(0, 0, 0, 0.15);\n",
              "      filter: drop-shadow(0px 1px 2px rgba(0, 0, 0, 0.3));\n",
              "      fill: #FFFFFF;\n",
              "    }\n",
              "  </style>\n",
              "\n",
              "      <script>\n",
              "        const buttonEl =\n",
              "          document.querySelector('#df-e494ced2-e1fd-49fc-bc4d-439a4d70cf0b button.colab-df-convert');\n",
              "        buttonEl.style.display =\n",
              "          google.colab.kernel.accessAllowed ? 'block' : 'none';\n",
              "\n",
              "        async function convertToInteractive(key) {\n",
              "          const element = document.querySelector('#df-e494ced2-e1fd-49fc-bc4d-439a4d70cf0b');\n",
              "          const dataTable =\n",
              "            await google.colab.kernel.invokeFunction('convertToInteractive',\n",
              "                                                     [key], {});\n",
              "          if (!dataTable) return;\n",
              "\n",
              "          const docLinkHtml = 'Like what you see? Visit the ' +\n",
              "            '<a target=\"_blank\" href=https://colab.research.google.com/notebooks/data_table.ipynb>data table notebook</a>'\n",
              "            + ' to learn more about interactive tables.';\n",
              "          element.innerHTML = '';\n",
              "          dataTable['output_type'] = 'display_data';\n",
              "          await google.colab.output.renderOutput(dataTable, element);\n",
              "          const docLink = document.createElement('div');\n",
              "          docLink.innerHTML = docLinkHtml;\n",
              "          element.appendChild(docLink);\n",
              "        }\n",
              "      </script>\n",
              "    </div>\n",
              "  </div>\n",
              "  "
            ]
          },
          "metadata": {},
          "execution_count": 15
        }
      ]
    },
    {
      "cell_type": "code",
      "source": [
        "# Check if the correlation has changed after imputation\n",
        "X_train.corr()"
      ],
      "metadata": {
        "colab": {
          "base_uri": "https://localhost:8080/",
          "height": 269
        },
        "id": "TNpety8Fo6zV",
        "outputId": "1172db26-d669-40d4-934e-8a16add61351"
      },
      "execution_count": 16,
      "outputs": [
        {
          "output_type": "execute_result",
          "data": {
            "text/plain": [
              "                  Age      Fare    Family  Age_median  Age_mean  Fare_median  \\\n",
              "Age          1.000000  0.092644 -0.299113    1.000000  1.000000     0.087356   \n",
              "Fare         0.092644  1.000000  0.208268    0.091757  0.088069     1.000000   \n",
              "Family      -0.299113  0.208268  1.000000   -0.242883 -0.244610     0.205942   \n",
              "Age_median   1.000000  0.091757 -0.242883    1.000000  0.999454     0.086982   \n",
              "Age_mean     1.000000  0.088069 -0.244610    0.999454  1.000000     0.083461   \n",
              "Fare_median  0.087356  1.000000  0.205942    0.086982  0.083461     1.000000   \n",
              "Fare_mean    0.090156  1.000000  0.205499    0.089673  0.086078     0.996607   \n",
              "\n",
              "             Fare_mean  \n",
              "Age           0.090156  \n",
              "Fare          1.000000  \n",
              "Family        0.205499  \n",
              "Age_median    0.089673  \n",
              "Age_mean      0.086078  \n",
              "Fare_median   0.996607  \n",
              "Fare_mean     1.000000  "
            ],
            "text/html": [
              "\n",
              "  <div id=\"df-612356a9-3b40-4237-9b99-e90ad2a5913a\">\n",
              "    <div class=\"colab-df-container\">\n",
              "      <div>\n",
              "<style scoped>\n",
              "    .dataframe tbody tr th:only-of-type {\n",
              "        vertical-align: middle;\n",
              "    }\n",
              "\n",
              "    .dataframe tbody tr th {\n",
              "        vertical-align: top;\n",
              "    }\n",
              "\n",
              "    .dataframe thead th {\n",
              "        text-align: right;\n",
              "    }\n",
              "</style>\n",
              "<table border=\"1\" class=\"dataframe\">\n",
              "  <thead>\n",
              "    <tr style=\"text-align: right;\">\n",
              "      <th></th>\n",
              "      <th>Age</th>\n",
              "      <th>Fare</th>\n",
              "      <th>Family</th>\n",
              "      <th>Age_median</th>\n",
              "      <th>Age_mean</th>\n",
              "      <th>Fare_median</th>\n",
              "      <th>Fare_mean</th>\n",
              "    </tr>\n",
              "  </thead>\n",
              "  <tbody>\n",
              "    <tr>\n",
              "      <th>Age</th>\n",
              "      <td>1.000000</td>\n",
              "      <td>0.092644</td>\n",
              "      <td>-0.299113</td>\n",
              "      <td>1.000000</td>\n",
              "      <td>1.000000</td>\n",
              "      <td>0.087356</td>\n",
              "      <td>0.090156</td>\n",
              "    </tr>\n",
              "    <tr>\n",
              "      <th>Fare</th>\n",
              "      <td>0.092644</td>\n",
              "      <td>1.000000</td>\n",
              "      <td>0.208268</td>\n",
              "      <td>0.091757</td>\n",
              "      <td>0.088069</td>\n",
              "      <td>1.000000</td>\n",
              "      <td>1.000000</td>\n",
              "    </tr>\n",
              "    <tr>\n",
              "      <th>Family</th>\n",
              "      <td>-0.299113</td>\n",
              "      <td>0.208268</td>\n",
              "      <td>1.000000</td>\n",
              "      <td>-0.242883</td>\n",
              "      <td>-0.244610</td>\n",
              "      <td>0.205942</td>\n",
              "      <td>0.205499</td>\n",
              "    </tr>\n",
              "    <tr>\n",
              "      <th>Age_median</th>\n",
              "      <td>1.000000</td>\n",
              "      <td>0.091757</td>\n",
              "      <td>-0.242883</td>\n",
              "      <td>1.000000</td>\n",
              "      <td>0.999454</td>\n",
              "      <td>0.086982</td>\n",
              "      <td>0.089673</td>\n",
              "    </tr>\n",
              "    <tr>\n",
              "      <th>Age_mean</th>\n",
              "      <td>1.000000</td>\n",
              "      <td>0.088069</td>\n",
              "      <td>-0.244610</td>\n",
              "      <td>0.999454</td>\n",
              "      <td>1.000000</td>\n",
              "      <td>0.083461</td>\n",
              "      <td>0.086078</td>\n",
              "    </tr>\n",
              "    <tr>\n",
              "      <th>Fare_median</th>\n",
              "      <td>0.087356</td>\n",
              "      <td>1.000000</td>\n",
              "      <td>0.205942</td>\n",
              "      <td>0.086982</td>\n",
              "      <td>0.083461</td>\n",
              "      <td>1.000000</td>\n",
              "      <td>0.996607</td>\n",
              "    </tr>\n",
              "    <tr>\n",
              "      <th>Fare_mean</th>\n",
              "      <td>0.090156</td>\n",
              "      <td>1.000000</td>\n",
              "      <td>0.205499</td>\n",
              "      <td>0.089673</td>\n",
              "      <td>0.086078</td>\n",
              "      <td>0.996607</td>\n",
              "      <td>1.000000</td>\n",
              "    </tr>\n",
              "  </tbody>\n",
              "</table>\n",
              "</div>\n",
              "      <button class=\"colab-df-convert\" onclick=\"convertToInteractive('df-612356a9-3b40-4237-9b99-e90ad2a5913a')\"\n",
              "              title=\"Convert this dataframe to an interactive table.\"\n",
              "              style=\"display:none;\">\n",
              "        \n",
              "  <svg xmlns=\"http://www.w3.org/2000/svg\" height=\"24px\"viewBox=\"0 0 24 24\"\n",
              "       width=\"24px\">\n",
              "    <path d=\"M0 0h24v24H0V0z\" fill=\"none\"/>\n",
              "    <path d=\"M18.56 5.44l.94 2.06.94-2.06 2.06-.94-2.06-.94-.94-2.06-.94 2.06-2.06.94zm-11 1L8.5 8.5l.94-2.06 2.06-.94-2.06-.94L8.5 2.5l-.94 2.06-2.06.94zm10 10l.94 2.06.94-2.06 2.06-.94-2.06-.94-.94-2.06-.94 2.06-2.06.94z\"/><path d=\"M17.41 7.96l-1.37-1.37c-.4-.4-.92-.59-1.43-.59-.52 0-1.04.2-1.43.59L10.3 9.45l-7.72 7.72c-.78.78-.78 2.05 0 2.83L4 21.41c.39.39.9.59 1.41.59.51 0 1.02-.2 1.41-.59l7.78-7.78 2.81-2.81c.8-.78.8-2.07 0-2.86zM5.41 20L4 18.59l7.72-7.72 1.47 1.35L5.41 20z\"/>\n",
              "  </svg>\n",
              "      </button>\n",
              "      \n",
              "  <style>\n",
              "    .colab-df-container {\n",
              "      display:flex;\n",
              "      flex-wrap:wrap;\n",
              "      gap: 12px;\n",
              "    }\n",
              "\n",
              "    .colab-df-convert {\n",
              "      background-color: #E8F0FE;\n",
              "      border: none;\n",
              "      border-radius: 50%;\n",
              "      cursor: pointer;\n",
              "      display: none;\n",
              "      fill: #1967D2;\n",
              "      height: 32px;\n",
              "      padding: 0 0 0 0;\n",
              "      width: 32px;\n",
              "    }\n",
              "\n",
              "    .colab-df-convert:hover {\n",
              "      background-color: #E2EBFA;\n",
              "      box-shadow: 0px 1px 2px rgba(60, 64, 67, 0.3), 0px 1px 3px 1px rgba(60, 64, 67, 0.15);\n",
              "      fill: #174EA6;\n",
              "    }\n",
              "\n",
              "    [theme=dark] .colab-df-convert {\n",
              "      background-color: #3B4455;\n",
              "      fill: #D2E3FC;\n",
              "    }\n",
              "\n",
              "    [theme=dark] .colab-df-convert:hover {\n",
              "      background-color: #434B5C;\n",
              "      box-shadow: 0px 1px 3px 1px rgba(0, 0, 0, 0.15);\n",
              "      filter: drop-shadow(0px 1px 2px rgba(0, 0, 0, 0.3));\n",
              "      fill: #FFFFFF;\n",
              "    }\n",
              "  </style>\n",
              "\n",
              "      <script>\n",
              "        const buttonEl =\n",
              "          document.querySelector('#df-612356a9-3b40-4237-9b99-e90ad2a5913a button.colab-df-convert');\n",
              "        buttonEl.style.display =\n",
              "          google.colab.kernel.accessAllowed ? 'block' : 'none';\n",
              "\n",
              "        async function convertToInteractive(key) {\n",
              "          const element = document.querySelector('#df-612356a9-3b40-4237-9b99-e90ad2a5913a');\n",
              "          const dataTable =\n",
              "            await google.colab.kernel.invokeFunction('convertToInteractive',\n",
              "                                                     [key], {});\n",
              "          if (!dataTable) return;\n",
              "\n",
              "          const docLinkHtml = 'Like what you see? Visit the ' +\n",
              "            '<a target=\"_blank\" href=https://colab.research.google.com/notebooks/data_table.ipynb>data table notebook</a>'\n",
              "            + ' to learn more about interactive tables.';\n",
              "          element.innerHTML = '';\n",
              "          dataTable['output_type'] = 'display_data';\n",
              "          await google.colab.output.renderOutput(dataTable, element);\n",
              "          const docLink = document.createElement('div');\n",
              "          docLink.innerHTML = docLinkHtml;\n",
              "          element.appendChild(docLink);\n",
              "        }\n",
              "      </script>\n",
              "    </div>\n",
              "  </div>\n",
              "  "
            ]
          },
          "metadata": {},
          "execution_count": 16
        }
      ]
    },
    {
      "cell_type": "code",
      "source": [
        "# Plot Box Plots if new 'Outliers' are introduced in the data after imputation.\n",
        "# This happens because the IQR shrinks after imputation which gives rise to new outliers\n",
        "# We can see new outliers getting created on Mean and Median Imputed dataset\n",
        "X_train[['Age', 'Age_median', 'Age_mean']].boxplot()"
      ],
      "metadata": {
        "colab": {
          "base_uri": "https://localhost:8080/",
          "height": 340
        },
        "id": "JXw5aJU1o_l-",
        "outputId": "5d32244f-3c27-4094-fd84-b2939279de6d"
      },
      "execution_count": 17,
      "outputs": [
        {
          "output_type": "stream",
          "name": "stderr",
          "text": [
            "/usr/local/lib/python3.7/dist-packages/matplotlib/cbook/__init__.py:1376: VisibleDeprecationWarning: Creating an ndarray from ragged nested sequences (which is a list-or-tuple of lists-or-tuples-or ndarrays with different lengths or shapes) is deprecated. If you meant to do this, you must specify 'dtype=object' when creating the ndarray.\n",
            "  X = np.atleast_1d(X.T if isinstance(X, np.ndarray) else np.asarray(X))\n"
          ]
        },
        {
          "output_type": "execute_result",
          "data": {
            "text/plain": [
              "<matplotlib.axes._subplots.AxesSubplot at 0x7f1a10a96ed0>"
            ]
          },
          "metadata": {},
          "execution_count": 17
        },
        {
          "output_type": "display_data",
          "data": {
            "text/plain": [
              "<Figure size 432x288 with 1 Axes>"
            ],
            "image/png": "[encoded data removed]"
          },
          "metadata": {
            "needs_background": "light"
          }
        }
      ]
    },
    {
      "cell_type": "code",
      "source": [
        "X_train[['Fare', 'Fare_median', 'Fare_mean']].boxplot()"
      ],
      "metadata": {
        "colab": {
          "base_uri": "https://localhost:8080/",
          "height": 340
        },
        "id": "B-ZzsSdxpctt",
        "outputId": "53c6dd24-3af0-4f14-e747-195c06a6dd6a"
      },
      "execution_count": 18,
      "outputs": [
        {
          "output_type": "stream",
          "name": "stderr",
          "text": [
            "/usr/local/lib/python3.7/dist-packages/matplotlib/cbook/__init__.py:1376: VisibleDeprecationWarning: Creating an ndarray from ragged nested sequences (which is a list-or-tuple of lists-or-tuples-or ndarrays with different lengths or shapes) is deprecated. If you meant to do this, you must specify 'dtype=object' when creating the ndarray.\n",
            "  X = np.atleast_1d(X.T if isinstance(X, np.ndarray) else np.asarray(X))\n"
          ]
        },
        {
          "output_type": "execute_result",
          "data": {
            "text/plain": [
              "<matplotlib.axes._subplots.AxesSubplot at 0x7f1a1098dd90>"
            ]
          },
          "metadata": {},
          "execution_count": 18
        },
        {
          "output_type": "display_data",
          "data": {
            "text/plain": [
              "<Figure size 432x288 with 1 Axes>"
            ],
            "image/png": "[encoded data removed]"
          },
          "metadata": {
            "needs_background": "light"
          }
        }
      ]
    },
    {
      "cell_type": "markdown",
      "source": [
        "### Using Scikit-Learn to impute missing values with Mean and Median"
      ],
      "metadata": {
        "id": "ZmhbhcHCpr2s"
      }
    },
    {
      "cell_type": "code",
      "source": [
        "# Perform train test split\n",
        "X_train,X_test,y_train,y_test = train_test_split(X,y,test_size=0.2,random_state=2)"
      ],
      "metadata": {
        "id": "zq437yzQpfM_"
      },
      "execution_count": 19,
      "outputs": []
    },
    {
      "cell_type": "code",
      "source": [
        "# Create Imputers \n",
        "imputer1 = SimpleImputer(strategy='median')\n",
        "imputer2 = SimpleImputer(strategy='mean')"
      ],
      "metadata": {
        "id": "IQW5Y3-Cp4SZ"
      },
      "execution_count": 20,
      "outputs": []
    },
    {
      "cell_type": "code",
      "source": [
        "# Use Column Transformers\n",
        "trf = ColumnTransformer([\n",
        "    ('imputer1',imputer1,['Age']),\n",
        "    ('imputer2',imputer2,['Fare'])\n",
        "],remainder='passthrough')"
      ],
      "metadata": {
        "id": "GFXwiJFbp7Yx"
      },
      "execution_count": 21,
      "outputs": []
    },
    {
      "cell_type": "code",
      "source": [
        "# Fit on training dataset\n",
        "trf.fit(X_train)"
      ],
      "metadata": {
        "colab": {
          "base_uri": "https://localhost:8080/"
        },
        "id": "eTa47liOp_y1",
        "outputId": "7c9e5082-561e-4fc6-d137-5d1b951ddfb0"
      },
      "execution_count": 22,
      "outputs": [
        {
          "output_type": "execute_result",
          "data": {
            "text/plain": [
              "ColumnTransformer(remainder='passthrough',\n",
              "                  transformers=[('imputer1', SimpleImputer(strategy='median'),\n",
              "                                 ['Age']),\n",
              "                                ('imputer2', SimpleImputer(), ['Fare'])])"
            ]
          },
          "metadata": {},
          "execution_count": 22
        }
      ]
    },
    {
      "cell_type": "code",
      "source": [
        "# We can see the value calculated for Imputation by the imputers as below\n",
        "print(trf.named_transformers_['imputer1'].statistics_)\n",
        "print(trf.named_transformers_['imputer2'].statistics_)"
      ],
      "metadata": {
        "colab": {
          "base_uri": "https://localhost:8080/"
        },
        "id": "skiF_TisqDQA",
        "outputId": "aab9936c-d575-45cf-8e32-3c54ac4a0e1c"
      },
      "execution_count": 23,
      "outputs": [
        {
          "output_type": "stream",
          "name": "stdout",
          "text": [
            "[28.75]\n",
            "[32.61759689]\n"
          ]
        }
      ]
    },
    {
      "cell_type": "code",
      "source": [
        "# Finally Transform the train and test dataset\n",
        "X_train = trf.transform(X_train)\n",
        "X_test = trf.transform(X_test)"
      ],
      "metadata": {
        "id": "D5zVcf58qSW1"
      },
      "execution_count": 24,
      "outputs": []
    },
    {
      "cell_type": "markdown",
      "source": [
        "### Impute missing values with an Arbitrary Value"
      ],
      "metadata": {
        "id": "jTESoQvyruZe"
      }
    },
    {
      "cell_type": "code",
      "source": [
        "df = pd.read_csv('titanic_toy.csv')\n",
        "df.sample(5)"
      ],
      "metadata": {
        "colab": {
          "base_uri": "https://localhost:8080/",
          "height": 206
        },
        "id": "ixj-hdydqWJZ",
        "outputId": "7016ac1c-21a0-41ed-86f8-98063934e687"
      },
      "execution_count": 25,
      "outputs": [
        {
          "output_type": "execute_result",
          "data": {
            "text/plain": [
              "      Age    Fare  Family  Survived\n",
              "548  33.0  20.525       2         0\n",
              "724  27.0  53.100       1         1\n",
              "655  24.0  73.500       2         0\n",
              "387  36.0  13.000       0         1\n",
              "90   29.0   8.050       0         0"
            ],
            "text/html": [
              "\n",
              "  <div id=\"df-27d45852-5fd0-4512-9ad3-83e87ac78c05\">\n",
              "    <div class=\"colab-df-container\">\n",
              "      <div>\n",
              "<style scoped>\n",
              "    .dataframe tbody tr th:only-of-type {\n",
              "        vertical-align: middle;\n",
              "    }\n",
              "\n",
              "    .dataframe tbody tr th {\n",
              "        vertical-align: top;\n",
              "    }\n",
              "\n",
              "    .dataframe thead th {\n",
              "        text-align: right;\n",
              "    }\n",
              "</style>\n",
              "<table border=\"1\" class=\"dataframe\">\n",
              "  <thead>\n",
              "    <tr style=\"text-align: right;\">\n",
              "      <th></th>\n",
              "      <th>Age</th>\n",
              "      <th>Fare</th>\n",
              "      <th>Family</th>\n",
              "      <th>Survived</th>\n",
              "    </tr>\n",
              "  </thead>\n",
              "  <tbody>\n",
              "    <tr>\n",
              "      <th>548</th>\n",
              "      <td>33.0</td>\n",
              "      <td>20.525</td>\n",
              "      <td>2</td>\n",
              "      <td>0</td>\n",
              "    </tr>\n",
              "    <tr>\n",
              "      <th>724</th>\n",
              "      <td>27.0</td>\n",
              "      <td>53.100</td>\n",
              "      <td>1</td>\n",
              "      <td>1</td>\n",
              "    </tr>\n",
              "    <tr>\n",
              "      <th>655</th>\n",
              "      <td>24.0</td>\n",
              "      <td>73.500</td>\n",
              "      <td>2</td>\n",
              "      <td>0</td>\n",
              "    </tr>\n",
              "    <tr>\n",
              "      <th>387</th>\n",
              "      <td>36.0</td>\n",
              "      <td>13.000</td>\n",
              "      <td>0</td>\n",
              "      <td>1</td>\n",
              "    </tr>\n",
              "    <tr>\n",
              "      <th>90</th>\n",
              "      <td>29.0</td>\n",
              "      <td>8.050</td>\n",
              "      <td>0</td>\n",
              "      <td>0</td>\n",
              "    </tr>\n",
              "  </tbody>\n",
              "</table>\n",
              "</div>\n",
              "      <button class=\"colab-df-convert\" onclick=\"convertToInteractive('df-27d45852-5fd0-4512-9ad3-83e87ac78c05')\"\n",
              "              title=\"Convert this dataframe to an interactive table.\"\n",
              "              style=\"display:none;\">\n",
              "        \n",
              "  <svg xmlns=\"http://www.w3.org/2000/svg\" height=\"24px\"viewBox=\"0 0 24 24\"\n",
              "       width=\"24px\">\n",
              "    <path d=\"M0 0h24v24H0V0z\" fill=\"none\"/>\n",
              "    <path d=\"M18.56 5.44l.94 2.06.94-2.06 2.06-.94-2.06-.94-.94-2.06-.94 2.06-2.06.94zm-11 1L8.5 8.5l.94-2.06 2.06-.94-2.06-.94L8.5 2.5l-.94 2.06-2.06.94zm10 10l.94 2.06.94-2.06 2.06-.94-2.06-.94-.94-2.06-.94 2.06-2.06.94z\"/><path d=\"M17.41 7.96l-1.37-1.37c-.4-.4-.92-.59-1.43-.59-.52 0-1.04.2-1.43.59L10.3 9.45l-7.72 7.72c-.78.78-.78 2.05 0 2.83L4 21.41c.39.39.9.59 1.41.59.51 0 1.02-.2 1.41-.59l7.78-7.78 2.81-2.81c.8-.78.8-2.07 0-2.86zM5.41 20L4 18.59l7.72-7.72 1.47 1.35L5.41 20z\"/>\n",
              "  </svg>\n",
              "      </button>\n",
              "      \n",
              "  <style>\n",
              "    .colab-df-container {\n",
              "      display:flex;\n",
              "      flex-wrap:wrap;\n",
              "      gap: 12px;\n",
              "    }\n",
              "\n",
              "    .colab-df-convert {\n",
              "      background-color: #E8F0FE;\n",
              "      border: none;\n",
              "      border-radius: 50%;\n",
              "      cursor: pointer;\n",
              "      display: none;\n",
              "      fill: #1967D2;\n",
              "      height: 32px;\n",
              "      padding: 0 0 0 0;\n",
              "      width: 32px;\n",
              "    }\n",
              "\n",
              "    .colab-df-convert:hover {\n",
              "      background-color: #E2EBFA;\n",
              "      box-shadow: 0px 1px 2px rgba(60, 64, 67, 0.3), 0px 1px 3px 1px rgba(60, 64, 67, 0.15);\n",
              "      fill: #174EA6;\n",
              "    }\n",
              "\n",
              "    [theme=dark] .colab-df-convert {\n",
              "      background-color: #3B4455;\n",
              "      fill: #D2E3FC;\n",
              "    }\n",
              "\n",
              "    [theme=dark] .colab-df-convert:hover {\n",
              "      background-color: #434B5C;\n",
              "      box-shadow: 0px 1px 3px 1px rgba(0, 0, 0, 0.15);\n",
              "      filter: drop-shadow(0px 1px 2px rgba(0, 0, 0, 0.3));\n",
              "      fill: #FFFFFF;\n",
              "    }\n",
              "  </style>\n",
              "\n",
              "      <script>\n",
              "        const buttonEl =\n",
              "          document.querySelector('#df-27d45852-5fd0-4512-9ad3-83e87ac78c05 button.colab-df-convert');\n",
              "        buttonEl.style.display =\n",
              "          google.colab.kernel.accessAllowed ? 'block' : 'none';\n",
              "\n",
              "        async function convertToInteractive(key) {\n",
              "          const element = document.querySelector('#df-27d45852-5fd0-4512-9ad3-83e87ac78c05');\n",
              "          const dataTable =\n",
              "            await google.colab.kernel.invokeFunction('convertToInteractive',\n",
              "                                                     [key], {});\n",
              "          if (!dataTable) return;\n",
              "\n",
              "          const docLinkHtml = 'Like what you see? Visit the ' +\n",
              "            '<a target=\"_blank\" href=https://colab.research.google.com/notebooks/data_table.ipynb>data table notebook</a>'\n",
              "            + ' to learn more about interactive tables.';\n",
              "          element.innerHTML = '';\n",
              "          dataTable['output_type'] = 'display_data';\n",
              "          await google.colab.output.renderOutput(dataTable, element);\n",
              "          const docLink = document.createElement('div');\n",
              "          docLink.innerHTML = docLinkHtml;\n",
              "          element.appendChild(docLink);\n",
              "        }\n",
              "      </script>\n",
              "    </div>\n",
              "  </div>\n",
              "  "
            ]
          },
          "metadata": {},
          "execution_count": 25
        }
      ]
    },
    {
      "cell_type": "code",
      "source": [
        "df.isnull().mean()"
      ],
      "metadata": {
        "colab": {
          "base_uri": "https://localhost:8080/"
        },
        "id": "3ZH2xewbr3QD",
        "outputId": "aba8ca8a-ec4f-493d-ec13-62b7eb8f7e85"
      },
      "execution_count": 26,
      "outputs": [
        {
          "output_type": "execute_result",
          "data": {
            "text/plain": [
              "Age         0.198653\n",
              "Fare        0.050505\n",
              "Family      0.000000\n",
              "Survived    0.000000\n",
              "dtype: float64"
            ]
          },
          "metadata": {},
          "execution_count": 26
        }
      ]
    },
    {
      "cell_type": "code",
      "source": [
        "# Separate Independent and Dependent Features\n",
        "X = df.drop(columns=['Survived'])\n",
        "y = df['Survived']\n",
        "\n",
        "# Perform Train Test Split\n",
        "X_train,X_test,y_train,y_test = train_test_split(X,y,test_size=0.2,random_state=2)"
      ],
      "metadata": {
        "id": "sRg6jZINr63w"
      },
      "execution_count": 27,
      "outputs": []
    },
    {
      "cell_type": "code",
      "source": [
        "# Impute missing values with arbitrary values\n",
        "\n",
        "X_train['Age_99'] = X_train['Age'].fillna(99)\n",
        "X_train['Age_minus1'] = X_train['Age'].fillna(-1)\n",
        "\n",
        "X_train['Fare_999'] = X_train['Fare'].fillna(999)\n",
        "X_train['Fare_minus1'] = X_train['Fare'].fillna(-1)"
      ],
      "metadata": {
        "id": "8boOOuZlsHZY"
      },
      "execution_count": 28,
      "outputs": []
    },
    {
      "cell_type": "code",
      "source": [
        "# Check the variance of the features before and after imputation\n",
        "# Ideally there should not be much change in variance. If there is \n",
        "# large variance for a feature, better not to impute that value\n",
        "# Here, variance of Age has reduced to a greater extent than the Fare feature\n",
        "\n",
        "print('Original Age variable variance: ', X_train['Age'].var())\n",
        "print('Age Variance after 99 value imputation: ', X_train['Age_99'].var())\n",
        "print('Age Variance after -1 value imputation: ', X_train['Age_minus1'].var())\n",
        "\n",
        "print('Original Fare variable variance: ', X_train['Fare'].var())\n",
        "print('Fare Variance after 999 value imputation: ', X_train['Fare_999'].var())\n",
        "print('Fare Variance after -1 value imputation: ', X_train['Fare_minus1'].var())"
      ],
      "metadata": {
        "colab": {
          "base_uri": "https://localhost:8080/"
        },
        "id": "62RpE-rWsPbB",
        "outputId": "fc234839-1013-4d55-d69a-8b6e6dbac4ce"
      },
      "execution_count": 29,
      "outputs": [
        {
          "output_type": "stream",
          "name": "stdout",
          "text": [
            "Original Age variable variance:  204.34951339046142\n",
            "Age Variance after 99 value imputation:  951.7275570187188\n",
            "Age Variance after -1 value imputation:  318.0896202624488\n",
            "Original Fare variable variance:  2448.1979137063163\n",
            "Fare Variance after 999 value imputation:  47219.202652176304\n",
            "Fare Variance after -1 value imputation:  2378.5676784883494\n"
          ]
        }
      ]
    },
    {
      "cell_type": "code",
      "source": [
        "fig = plt.figure()\n",
        "ax = fig.add_subplot(111)\n",
        "\n",
        "# original variable distribution\n",
        "X_train['Age'].plot(kind='kde', ax=ax)\n",
        "\n",
        "# variable imputed with the median\n",
        "X_train['Age_99'].plot(kind='kde', ax=ax, color='red')\n",
        "\n",
        "# variable imputed with the mean\n",
        "X_train['Age_minus1'].plot(kind='kde', ax=ax, color='green')\n",
        "\n",
        "# add legends\n",
        "lines, labels = ax.get_legend_handles_labels()\n",
        "ax.legend(lines, labels, loc='best')"
      ],
      "metadata": {
        "colab": {
          "base_uri": "https://localhost:8080/",
          "height": 283
        },
        "id": "lgyVbnalseVZ",
        "outputId": "d194c5cf-d4ce-4051-c91d-b27a65159ebf"
      },
      "execution_count": 30,
      "outputs": [
        {
          "output_type": "execute_result",
          "data": {
            "text/plain": [
              "<matplotlib.legend.Legend at 0x7f1a1089d950>"
            ]
          },
          "metadata": {},
          "execution_count": 30
        },
        {
          "output_type": "display_data",
          "data": {
            "text/plain": [
              "<Figure size 432x288 with 1 Axes>"
            ],
            "image/png": "[encoded data removed]"
          },
          "metadata": {
            "needs_background": "light"
          }
        }
      ]
    },
    {
      "cell_type": "code",
      "source": [
        "fig = plt.figure()\n",
        "ax = fig.add_subplot(111)\n",
        "\n",
        "# original variable distribution\n",
        "X_train['Fare'].plot(kind='kde', ax=ax)\n",
        "\n",
        "# variable imputed with the median\n",
        "X_train['Fare_999'].plot(kind='kde', ax=ax, color='red')\n",
        "\n",
        "# variable imputed with the mean\n",
        "X_train['Fare_minus1'].plot(kind='kde', ax=ax, color='green')\n",
        "\n",
        "# add legends\n",
        "lines, labels = ax.get_legend_handles_labels()\n",
        "ax.legend(lines, labels, loc='best')"
      ],
      "metadata": {
        "colab": {
          "base_uri": "https://localhost:8080/",
          "height": 283
        },
        "id": "hxEEZGa6sgeP",
        "outputId": "5338c730-2267-40df-9fae-d49982fa0638"
      },
      "execution_count": 31,
      "outputs": [
        {
          "output_type": "execute_result",
          "data": {
            "text/plain": [
              "<matplotlib.legend.Legend at 0x7f1a108b8450>"
            ]
          },
          "metadata": {},
          "execution_count": 31
        },
        {
          "output_type": "display_data",
          "data": {
            "text/plain": [
              "<Figure size 432x288 with 1 Axes>"
            ],
            "image/png": "[encoded data removed]"
          },
          "metadata": {
            "needs_background": "light"
          }
        }
      ]
    },
    {
      "cell_type": "code",
      "source": [
        "X_train.cov()"
      ],
      "metadata": {
        "colab": {
          "base_uri": "https://localhost:8080/",
          "height": 269
        },
        "id": "3RUyTyQxsj4I",
        "outputId": "68e4c5bb-ec20-45dd-ac9c-d52ff1e1559f"
      },
      "execution_count": 32,
      "outputs": [
        {
          "output_type": "execute_result",
          "data": {
            "text/plain": [
              "                    Age         Fare     Family      Age_99  Age_minus1  \\\n",
              "Age          204.349513    70.719262  -6.498901  204.349513  204.349513   \n",
              "Fare          70.719262  2448.197914  17.258917 -101.671097  125.558364   \n",
              "Family        -6.498901    17.258917   2.735252   -7.387287   -4.149246   \n",
              "Age_99       204.349513  -101.671097  -7.387287  951.727557 -189.535540   \n",
              "Age_minus1   204.349513   125.558364  -4.149246 -189.535540  318.089620   \n",
              "Fare_999     162.793430  2448.197914  11.528625 -159.931663  257.379887   \n",
              "Fare_minus1   63.321188  2448.197914  16.553989  -94.317400  114.394141   \n",
              "\n",
              "                 Fare_999  Fare_minus1  \n",
              "Age            162.793430    63.321188  \n",
              "Fare          2448.197914  2448.197914  \n",
              "Family          11.528625    16.553989  \n",
              "Age_99        -159.931663   -94.317400  \n",
              "Age_minus1     257.379887   114.394141  \n",
              "Fare_999     47219.202652   762.474982  \n",
              "Fare_minus1    762.474982  2378.567678  "
            ],
            "text/html": [
              "\n",
              "  <div id=\"df-0567c80b-3088-4c50-a59f-5bfaec76cdd1\">\n",
              "    <div class=\"colab-df-container\">\n",
              "      <div>\n",
              "<style scoped>\n",
              "    .dataframe tbody tr th:only-of-type {\n",
              "        vertical-align: middle;\n",
              "    }\n",
              "\n",
              "    .dataframe tbody tr th {\n",
              "        vertical-align: top;\n",
              "    }\n",
              "\n",
              "    .dataframe thead th {\n",
              "        text-align: right;\n",
              "    }\n",
              "</style>\n",
              "<table border=\"1\" class=\"dataframe\">\n",
              "  <thead>\n",
              "    <tr style=\"text-align: right;\">\n",
              "      <th></th>\n",
              "      <th>Age</th>\n",
              "      <th>Fare</th>\n",
              "      <th>Family</th>\n",
              "      <th>Age_99</th>\n",
              "      <th>Age_minus1</th>\n",
              "      <th>Fare_999</th>\n",
              "      <th>Fare_minus1</th>\n",
              "    </tr>\n",
              "  </thead>\n",
              "  <tbody>\n",
              "    <tr>\n",
              "      <th>Age</th>\n",
              "      <td>204.349513</td>\n",
              "      <td>70.719262</td>\n",
              "      <td>-6.498901</td>\n",
              "      <td>204.349513</td>\n",
              "      <td>204.349513</td>\n",
              "      <td>162.793430</td>\n",
              "      <td>63.321188</td>\n",
              "    </tr>\n",
              "    <tr>\n",
              "      <th>Fare</th>\n",
              "      <td>70.719262</td>\n",
              "      <td>2448.197914</td>\n",
              "      <td>17.258917</td>\n",
              "      <td>-101.671097</td>\n",
              "      <td>125.558364</td>\n",
              "      <td>2448.197914</td>\n",
              "      <td>2448.197914</td>\n",
              "    </tr>\n",
              "    <tr>\n",
              "      <th>Family</th>\n",
              "      <td>-6.498901</td>\n",
              "      <td>17.258917</td>\n",
              "      <td>2.735252</td>\n",
              "      <td>-7.387287</td>\n",
              "      <td>-4.149246</td>\n",
              "      <td>11.528625</td>\n",
              "      <td>16.553989</td>\n",
              "    </tr>\n",
              "    <tr>\n",
              "      <th>Age_99</th>\n",
              "      <td>204.349513</td>\n",
              "      <td>-101.671097</td>\n",
              "      <td>-7.387287</td>\n",
              "      <td>951.727557</td>\n",
              "      <td>-189.535540</td>\n",
              "      <td>-159.931663</td>\n",
              "      <td>-94.317400</td>\n",
              "    </tr>\n",
              "    <tr>\n",
              "      <th>Age_minus1</th>\n",
              "      <td>204.349513</td>\n",
              "      <td>125.558364</td>\n",
              "      <td>-4.149246</td>\n",
              "      <td>-189.535540</td>\n",
              "      <td>318.089620</td>\n",
              "      <td>257.379887</td>\n",
              "      <td>114.394141</td>\n",
              "    </tr>\n",
              "    <tr>\n",
              "      <th>Fare_999</th>\n",
              "      <td>162.793430</td>\n",
              "      <td>2448.197914</td>\n",
              "      <td>11.528625</td>\n",
              "      <td>-159.931663</td>\n",
              "      <td>257.379887</td>\n",
              "      <td>47219.202652</td>\n",
              "      <td>762.474982</td>\n",
              "    </tr>\n",
              "    <tr>\n",
              "      <th>Fare_minus1</th>\n",
              "      <td>63.321188</td>\n",
              "      <td>2448.197914</td>\n",
              "      <td>16.553989</td>\n",
              "      <td>-94.317400</td>\n",
              "      <td>114.394141</td>\n",
              "      <td>762.474982</td>\n",
              "      <td>2378.567678</td>\n",
              "    </tr>\n",
              "  </tbody>\n",
              "</table>\n",
              "</div>\n",
              "      <button class=\"colab-df-convert\" onclick=\"convertToInteractive('df-0567c80b-3088-4c50-a59f-5bfaec76cdd1')\"\n",
              "              title=\"Convert this dataframe to an interactive table.\"\n",
              "              style=\"display:none;\">\n",
              "        \n",
              "  <svg xmlns=\"http://www.w3.org/2000/svg\" height=\"24px\"viewBox=\"0 0 24 24\"\n",
              "       width=\"24px\">\n",
              "    <path d=\"M0 0h24v24H0V0z\" fill=\"none\"/>\n",
              "    <path d=\"M18.56 5.44l.94 2.06.94-2.06 2.06-.94-2.06-.94-.94-2.06-.94 2.06-2.06.94zm-11 1L8.5 8.5l.94-2.06 2.06-.94-2.06-.94L8.5 2.5l-.94 2.06-2.06.94zm10 10l.94 2.06.94-2.06 2.06-.94-2.06-.94-.94-2.06-.94 2.06-2.06.94z\"/><path d=\"M17.41 7.96l-1.37-1.37c-.4-.4-.92-.59-1.43-.59-.52 0-1.04.2-1.43.59L10.3 9.45l-7.72 7.72c-.78.78-.78 2.05 0 2.83L4 21.41c.39.39.9.59 1.41.59.51 0 1.02-.2 1.41-.59l7.78-7.78 2.81-2.81c.8-.78.8-2.07 0-2.86zM5.41 20L4 18.59l7.72-7.72 1.47 1.35L5.41 20z\"/>\n",
              "  </svg>\n",
              "      </button>\n",
              "      \n",
              "  <style>\n",
              "    .colab-df-container {\n",
              "      display:flex;\n",
              "      flex-wrap:wrap;\n",
              "      gap: 12px;\n",
              "    }\n",
              "\n",
              "    .colab-df-convert {\n",
              "      background-color: #E8F0FE;\n",
              "      border: none;\n",
              "      border-radius: 50%;\n",
              "      cursor: pointer;\n",
              "      display: none;\n",
              "      fill: #1967D2;\n",
              "      height: 32px;\n",
              "      padding: 0 0 0 0;\n",
              "      width: 32px;\n",
              "    }\n",
              "\n",
              "    .colab-df-convert:hover {\n",
              "      background-color: #E2EBFA;\n",
              "      box-shadow: 0px 1px 2px rgba(60, 64, 67, 0.3), 0px 1px 3px 1px rgba(60, 64, 67, 0.15);\n",
              "      fill: #174EA6;\n",
              "    }\n",
              "\n",
              "    [theme=dark] .colab-df-convert {\n",
              "      background-color: #3B4455;\n",
              "      fill: #D2E3FC;\n",
              "    }\n",
              "\n",
              "    [theme=dark] .colab-df-convert:hover {\n",
              "      background-color: #434B5C;\n",
              "      box-shadow: 0px 1px 3px 1px rgba(0, 0, 0, 0.15);\n",
              "      filter: drop-shadow(0px 1px 2px rgba(0, 0, 0, 0.3));\n",
              "      fill: #FFFFFF;\n",
              "    }\n",
              "  </style>\n",
              "\n",
              "      <script>\n",
              "        const buttonEl =\n",
              "          document.querySelector('#df-0567c80b-3088-4c50-a59f-5bfaec76cdd1 button.colab-df-convert');\n",
              "        buttonEl.style.display =\n",
              "          google.colab.kernel.accessAllowed ? 'block' : 'none';\n",
              "\n",
              "        async function convertToInteractive(key) {\n",
              "          const element = document.querySelector('#df-0567c80b-3088-4c50-a59f-5bfaec76cdd1');\n",
              "          const dataTable =\n",
              "            await google.colab.kernel.invokeFunction('convertToInteractive',\n",
              "                                                     [key], {});\n",
              "          if (!dataTable) return;\n",
              "\n",
              "          const docLinkHtml = 'Like what you see? Visit the ' +\n",
              "            '<a target=\"_blank\" href=https://colab.research.google.com/notebooks/data_table.ipynb>data table notebook</a>'\n",
              "            + ' to learn more about interactive tables.';\n",
              "          element.innerHTML = '';\n",
              "          dataTable['output_type'] = 'display_data';\n",
              "          await google.colab.output.renderOutput(dataTable, element);\n",
              "          const docLink = document.createElement('div');\n",
              "          docLink.innerHTML = docLinkHtml;\n",
              "          element.appendChild(docLink);\n",
              "        }\n",
              "      </script>\n",
              "    </div>\n",
              "  </div>\n",
              "  "
            ]
          },
          "metadata": {},
          "execution_count": 32
        }
      ]
    },
    {
      "cell_type": "code",
      "source": [
        "X_train.corr()"
      ],
      "metadata": {
        "colab": {
          "base_uri": "https://localhost:8080/",
          "height": 269
        },
        "id": "6uti7obosmU0",
        "outputId": "98946abc-94b0-4831-cd0a-7b3bc04c3b18"
      },
      "execution_count": 33,
      "outputs": [
        {
          "output_type": "execute_result",
          "data": {
            "text/plain": [
              "                  Age      Fare    Family    Age_99  Age_minus1  Fare_999  \\\n",
              "Age          1.000000  0.092644 -0.299113  1.000000    1.000000  0.051179   \n",
              "Fare         0.092644  1.000000  0.208268 -0.066273    0.142022  1.000000   \n",
              "Family      -0.299113  0.208268  1.000000 -0.144787   -0.140668  0.032079   \n",
              "Age_99       1.000000 -0.066273 -0.144787  1.000000   -0.344476 -0.023857   \n",
              "Age_minus1   1.000000  0.142022 -0.140668 -0.344476    1.000000  0.066411   \n",
              "Fare_999     0.051179  1.000000  0.032079 -0.023857    0.066411  1.000000   \n",
              "Fare_minus1  0.084585  1.000000  0.205233 -0.062687    0.131514  0.071946   \n",
              "\n",
              "             Fare_minus1  \n",
              "Age             0.084585  \n",
              "Fare            1.000000  \n",
              "Family          0.205233  \n",
              "Age_99         -0.062687  \n",
              "Age_minus1      0.131514  \n",
              "Fare_999        0.071946  \n",
              "Fare_minus1     1.000000  "
            ],
            "text/html": [
              "\n",
              "  <div id=\"df-01d7b27e-39cd-48ca-9a69-e5bcb762f0c2\">\n",
              "    <div class=\"colab-df-container\">\n",
              "      <div>\n",
              "<style scoped>\n",
              "    .dataframe tbody tr th:only-of-type {\n",
              "        vertical-align: middle;\n",
              "    }\n",
              "\n",
              "    .dataframe tbody tr th {\n",
              "        vertical-align: top;\n",
              "    }\n",
              "\n",
              "    .dataframe thead th {\n",
              "        text-align: right;\n",
              "    }\n",
              "</style>\n",
              "<table border=\"1\" class=\"dataframe\">\n",
              "  <thead>\n",
              "    <tr style=\"text-align: right;\">\n",
              "      <th></th>\n",
              "      <th>Age</th>\n",
              "      <th>Fare</th>\n",
              "      <th>Family</th>\n",
              "      <th>Age_99</th>\n",
              "      <th>Age_minus1</th>\n",
              "      <th>Fare_999</th>\n",
              "      <th>Fare_minus1</th>\n",
              "    </tr>\n",
              "  </thead>\n",
              "  <tbody>\n",
              "    <tr>\n",
              "      <th>Age</th>\n",
              "      <td>1.000000</td>\n",
              "      <td>0.092644</td>\n",
              "      <td>-0.299113</td>\n",
              "      <td>1.000000</td>\n",
              "      <td>1.000000</td>\n",
              "      <td>0.051179</td>\n",
              "      <td>0.084585</td>\n",
              "    </tr>\n",
              "    <tr>\n",
              "      <th>Fare</th>\n",
              "      <td>0.092644</td>\n",
              "      <td>1.000000</td>\n",
              "      <td>0.208268</td>\n",
              "      <td>-0.066273</td>\n",
              "      <td>0.142022</td>\n",
              "      <td>1.000000</td>\n",
              "      <td>1.000000</td>\n",
              "    </tr>\n",
              "    <tr>\n",
              "      <th>Family</th>\n",
              "      <td>-0.299113</td>\n",
              "      <td>0.208268</td>\n",
              "      <td>1.000000</td>\n",
              "      <td>-0.144787</td>\n",
              "      <td>-0.140668</td>\n",
              "      <td>0.032079</td>\n",
              "      <td>0.205233</td>\n",
              "    </tr>\n",
              "    <tr>\n",
              "      <th>Age_99</th>\n",
              "      <td>1.000000</td>\n",
              "      <td>-0.066273</td>\n",
              "      <td>-0.144787</td>\n",
              "      <td>1.000000</td>\n",
              "      <td>-0.344476</td>\n",
              "      <td>-0.023857</td>\n",
              "      <td>-0.062687</td>\n",
              "    </tr>\n",
              "    <tr>\n",
              "      <th>Age_minus1</th>\n",
              "      <td>1.000000</td>\n",
              "      <td>0.142022</td>\n",
              "      <td>-0.140668</td>\n",
              "      <td>-0.344476</td>\n",
              "      <td>1.000000</td>\n",
              "      <td>0.066411</td>\n",
              "      <td>0.131514</td>\n",
              "    </tr>\n",
              "    <tr>\n",
              "      <th>Fare_999</th>\n",
              "      <td>0.051179</td>\n",
              "      <td>1.000000</td>\n",
              "      <td>0.032079</td>\n",
              "      <td>-0.023857</td>\n",
              "      <td>0.066411</td>\n",
              "      <td>1.000000</td>\n",
              "      <td>0.071946</td>\n",
              "    </tr>\n",
              "    <tr>\n",
              "      <th>Fare_minus1</th>\n",
              "      <td>0.084585</td>\n",
              "      <td>1.000000</td>\n",
              "      <td>0.205233</td>\n",
              "      <td>-0.062687</td>\n",
              "      <td>0.131514</td>\n",
              "      <td>0.071946</td>\n",
              "      <td>1.000000</td>\n",
              "    </tr>\n",
              "  </tbody>\n",
              "</table>\n",
              "</div>\n",
              "      <button class=\"colab-df-convert\" onclick=\"convertToInteractive('df-01d7b27e-39cd-48ca-9a69-e5bcb762f0c2')\"\n",
              "              title=\"Convert this dataframe to an interactive table.\"\n",
              "              style=\"display:none;\">\n",
              "        \n",
              "  <svg xmlns=\"http://www.w3.org/2000/svg\" height=\"24px\"viewBox=\"0 0 24 24\"\n",
              "       width=\"24px\">\n",
              "    <path d=\"M0 0h24v24H0V0z\" fill=\"none\"/>\n",
              "    <path d=\"M18.56 5.44l.94 2.06.94-2.06 2.06-.94-2.06-.94-.94-2.06-.94 2.06-2.06.94zm-11 1L8.5 8.5l.94-2.06 2.06-.94-2.06-.94L8.5 2.5l-.94 2.06-2.06.94zm10 10l.94 2.06.94-2.06 2.06-.94-2.06-.94-.94-2.06-.94 2.06-2.06.94z\"/><path d=\"M17.41 7.96l-1.37-1.37c-.4-.4-.92-.59-1.43-.59-.52 0-1.04.2-1.43.59L10.3 9.45l-7.72 7.72c-.78.78-.78 2.05 0 2.83L4 21.41c.39.39.9.59 1.41.59.51 0 1.02-.2 1.41-.59l7.78-7.78 2.81-2.81c.8-.78.8-2.07 0-2.86zM5.41 20L4 18.59l7.72-7.72 1.47 1.35L5.41 20z\"/>\n",
              "  </svg>\n",
              "      </button>\n",
              "      \n",
              "  <style>\n",
              "    .colab-df-container {\n",
              "      display:flex;\n",
              "      flex-wrap:wrap;\n",
              "      gap: 12px;\n",
              "    }\n",
              "\n",
              "    .colab-df-convert {\n",
              "      background-color: #E8F0FE;\n",
              "      border: none;\n",
              "      border-radius: 50%;\n",
              "      cursor: pointer;\n",
              "      display: none;\n",
              "      fill: #1967D2;\n",
              "      height: 32px;\n",
              "      padding: 0 0 0 0;\n",
              "      width: 32px;\n",
              "    }\n",
              "\n",
              "    .colab-df-convert:hover {\n",
              "      background-color: #E2EBFA;\n",
              "      box-shadow: 0px 1px 2px rgba(60, 64, 67, 0.3), 0px 1px 3px 1px rgba(60, 64, 67, 0.15);\n",
              "      fill: #174EA6;\n",
              "    }\n",
              "\n",
              "    [theme=dark] .colab-df-convert {\n",
              "      background-color: #3B4455;\n",
              "      fill: #D2E3FC;\n",
              "    }\n",
              "\n",
              "    [theme=dark] .colab-df-convert:hover {\n",
              "      background-color: #434B5C;\n",
              "      box-shadow: 0px 1px 3px 1px rgba(0, 0, 0, 0.15);\n",
              "      filter: drop-shadow(0px 1px 2px rgba(0, 0, 0, 0.3));\n",
              "      fill: #FFFFFF;\n",
              "    }\n",
              "  </style>\n",
              "\n",
              "      <script>\n",
              "        const buttonEl =\n",
              "          document.querySelector('#df-01d7b27e-39cd-48ca-9a69-e5bcb762f0c2 button.colab-df-convert');\n",
              "        buttonEl.style.display =\n",
              "          google.colab.kernel.accessAllowed ? 'block' : 'none';\n",
              "\n",
              "        async function convertToInteractive(key) {\n",
              "          const element = document.querySelector('#df-01d7b27e-39cd-48ca-9a69-e5bcb762f0c2');\n",
              "          const dataTable =\n",
              "            await google.colab.kernel.invokeFunction('convertToInteractive',\n",
              "                                                     [key], {});\n",
              "          if (!dataTable) return;\n",
              "\n",
              "          const docLinkHtml = 'Like what you see? Visit the ' +\n",
              "            '<a target=\"_blank\" href=https://colab.research.google.com/notebooks/data_table.ipynb>data table notebook</a>'\n",
              "            + ' to learn more about interactive tables.';\n",
              "          element.innerHTML = '';\n",
              "          dataTable['output_type'] = 'display_data';\n",
              "          await google.colab.output.renderOutput(dataTable, element);\n",
              "          const docLink = document.createElement('div');\n",
              "          docLink.innerHTML = docLinkHtml;\n",
              "          element.appendChild(docLink);\n",
              "        }\n",
              "      </script>\n",
              "    </div>\n",
              "  </div>\n",
              "  "
            ]
          },
          "metadata": {},
          "execution_count": 33
        }
      ]
    },
    {
      "cell_type": "markdown",
      "source": [
        "### Using Scikit-Learn to impute missing values with a Constant Arbitrary Value"
      ],
      "metadata": {
        "id": "ipd_VdrYs1oT"
      }
    },
    {
      "cell_type": "code",
      "source": [
        "# Perform train test split\n",
        "X_train,X_test,y_train,y_test = train_test_split(X,y,test_size=0.2,random_state=2)"
      ],
      "metadata": {
        "id": "gECnEaVys1oU"
      },
      "execution_count": 34,
      "outputs": []
    },
    {
      "cell_type": "code",
      "source": [
        "# Create Imputers \n",
        "imputer1 = SimpleImputer(strategy='constant',fill_value=99)\n",
        "imputer2 = SimpleImputer(strategy='constant',fill_value=999)"
      ],
      "metadata": {
        "id": "cabMVt4Ds1oU"
      },
      "execution_count": 35,
      "outputs": []
    },
    {
      "cell_type": "code",
      "source": [
        "# Use Column Transformers\n",
        "trf = ColumnTransformer([\n",
        "    ('imputer1',imputer1,['Age']),\n",
        "    ('imputer2',imputer2,['Fare'])\n",
        "],remainder='passthrough')"
      ],
      "metadata": {
        "id": "KZriTjqXs1oU"
      },
      "execution_count": 36,
      "outputs": []
    },
    {
      "cell_type": "code",
      "source": [
        "# Fit on training dataset\n",
        "trf.fit(X_train)"
      ],
      "metadata": {
        "colab": {
          "base_uri": "https://localhost:8080/"
        },
        "outputId": "1380f864-03c0-4b74-e2b6-e555c385aaf4",
        "id": "Azks0PcJs1oV"
      },
      "execution_count": 37,
      "outputs": [
        {
          "output_type": "execute_result",
          "data": {
            "text/plain": [
              "ColumnTransformer(remainder='passthrough',\n",
              "                  transformers=[('imputer1',\n",
              "                                 SimpleImputer(fill_value=99,\n",
              "                                               strategy='constant'),\n",
              "                                 ['Age']),\n",
              "                                ('imputer2',\n",
              "                                 SimpleImputer(fill_value=999,\n",
              "                                               strategy='constant'),\n",
              "                                 ['Fare'])])"
            ]
          },
          "metadata": {},
          "execution_count": 37
        }
      ]
    },
    {
      "cell_type": "code",
      "source": [
        "# We can see the value calculated for Imputation by the imputers as below\n",
        "print(trf.named_transformers_['imputer1'].statistics_)\n",
        "print(trf.named_transformers_['imputer2'].statistics_)"
      ],
      "metadata": {
        "colab": {
          "base_uri": "https://localhost:8080/"
        },
        "outputId": "8416caa5-fc7d-4815-c36f-1b70ade370c2",
        "id": "BZpJkgaws1oV"
      },
      "execution_count": 38,
      "outputs": [
        {
          "output_type": "stream",
          "name": "stdout",
          "text": [
            "[99.]\n",
            "[999.]\n"
          ]
        }
      ]
    },
    {
      "cell_type": "code",
      "source": [
        "# Finally Transform the train and test dataset\n",
        "X_train = trf.transform(X_train)\n",
        "X_test = trf.transform(X_test)"
      ],
      "metadata": {
        "id": "mCZmml14s1oV"
      },
      "execution_count": 39,
      "outputs": []
    },
    {
      "cell_type": "code",
      "source": [
        "X_train"
      ],
      "metadata": {
        "colab": {
          "base_uri": "https://localhost:8080/"
        },
        "id": "NeNGJyQQtB3w",
        "outputId": "7631bb82-b7e4-4ef3-ff02-d73884a69285"
      },
      "execution_count": 40,
      "outputs": [
        {
          "output_type": "execute_result",
          "data": {
            "text/plain": [
              "array([[ 40.    ,  27.7208,   0.    ],\n",
              "       [  4.    ,  16.7   ,   2.    ],\n",
              "       [ 47.    ,   9.    ,   0.    ],\n",
              "       ...,\n",
              "       [ 71.    ,  49.5042,   0.    ],\n",
              "       [ 99.    , 221.7792,   0.    ],\n",
              "       [ 99.    ,  25.925 ,   0.    ]])"
            ]
          },
          "metadata": {},
          "execution_count": 40
        }
      ]
    }
  ]
}