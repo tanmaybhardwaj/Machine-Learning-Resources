{
  "nbformat": 4,
  "nbformat_minor": 0,
  "metadata": {
    "colab": {
      "name": "campusX-webscraping.ipynb",
      "provenance": [],
      "collapsed_sections": []
    },
    "kernelspec": {
      "name": "python3",
      "display_name": "Python 3"
    },
    "language_info": {
      "name": "python"
    }
  },
  "cells": [
    {
      "cell_type": "markdown",
      "source": [
        "## Import Packages and Libraries"
      ],
      "metadata": {
        "id": "XL779JL-mrnQ"
      }
    },
    {
      "cell_type": "code",
      "execution_count": 1,
      "metadata": {
        "id": "yEKLnmORmdCi"
      },
      "outputs": [],
      "source": [
        "import requests\n",
        "import numpy as np\n",
        "import pandas as pd\n",
        "from bs4 import BeautifulSoup"
      ]
    },
    {
      "cell_type": "markdown",
      "source": [
        "### Add the headers in case the response code returned is 403"
      ],
      "metadata": {
        "id": "Mkz62yjOpFqI"
      }
    },
    {
      "cell_type": "code",
      "source": [
        "headers={'User-Agent':'Mozilla/5.0 (Windows NT 6.3; Win 64 ; x64) Apple WeKit /537.36(KHTML , like Gecko) Chrome/80.0.3987.162 Safari/537.36'}\n",
        "url='https://www.ambitionbox.com/list-of-companies?page=1'\n",
        "webpage=requests.get(url,headers=headers).text"
      ],
      "metadata": {
        "id": "pKvn7_kAmuq6"
      },
      "execution_count": 2,
      "outputs": []
    },
    {
      "cell_type": "markdown",
      "source": [
        "### Convert the webpage to soup object"
      ],
      "metadata": {
        "id": "490MuZloonfF"
      }
    },
    {
      "cell_type": "code",
      "source": [
        "soup=BeautifulSoup(webpage,'lxml')"
      ],
      "metadata": {
        "id": "gJv4181FnRAC"
      },
      "execution_count": 3,
      "outputs": []
    },
    {
      "cell_type": "code",
      "source": [
        "soup.find_all('h1')[0].text"
      ],
      "metadata": {
        "colab": {
          "base_uri": "https://localhost:8080/",
          "height": 35
        },
        "id": "2zmBUvzEneOl",
        "outputId": "dd4a8506-c571-4173-92ee-dd9882025ed5"
      },
      "execution_count": 4,
      "outputs": [
        {
          "output_type": "execute_result",
          "data": {
            "text/plain": [
              "'List of companies in India'"
            ],
            "application/vnd.google.colaboratory.intrinsic+json": {
              "type": "string"
            }
          },
          "metadata": {},
          "execution_count": 4
        }
      ]
    },
    {
      "cell_type": "code",
      "source": [
        "company=soup.find_all('div',class_='company-content-wrapper')\n",
        "len(company) "
      ],
      "metadata": {
        "colab": {
          "base_uri": "https://localhost:8080/"
        },
        "id": "egpAuTzToCCz",
        "outputId": "2aa9b15f-52f7-4a5c-9474-a1bc3b33e2e6"
      },
      "execution_count": 5,
      "outputs": [
        {
          "output_type": "execute_result",
          "data": {
            "text/plain": [
              "30"
            ]
          },
          "metadata": {},
          "execution_count": 5
        }
      ]
    },
    {
      "cell_type": "markdown",
      "source": [
        "### Collecting data from the first page"
      ],
      "metadata": {
        "id": "GEMZFr84ohC0"
      }
    },
    {
      "cell_type": "code",
      "source": [
        "name=[]\n",
        "rating=[]\n",
        "reviews=[]\n",
        "ctype=[]\n",
        "hq=[]\n",
        "how_old=[]\n",
        "no_of_employee=[]\n",
        "\n",
        "for i in company:\n",
        "\n",
        "  name.append(i.find('h2').text.strip())\n",
        "  rating.append(i.find('p',class_='rating').text.strip())\n",
        "  reviews.append(i.find('a' , class_='review-count').text.strip())\n",
        "  ctype.append(i.find_all('p',class_='infoEntity')[0].text.strip())\n",
        "  hq.append(i.find_all('p',class_='infoEntity')[1].text.strip())\n",
        "  how_old.append(i.find_all('p',class_='infoEntity')[2].text.strip())\n",
        "  no_of_employee.append(i.find_all('p',class_='infoEntity')[3].text.strip())\n",
        "\n",
        "df=pd.DataFrame({'name':name,\n",
        "   'rating':rating,\n",
        "   'reviews':reviews,\n",
        "   'company_type':ctype,\n",
        "   'Head_Quarters':hq,\n",
        "   'Company_Age':how_old,\n",
        "   'No_of_Employee':no_of_employee,\n",
        "   })\n",
        "  "
      ],
      "metadata": {
        "id": "Vja3nDlWoGYS"
      },
      "execution_count": 6,
      "outputs": []
    },
    {
      "cell_type": "code",
      "source": [
        "df.head()"
      ],
      "metadata": {
        "colab": {
          "base_uri": "https://localhost:8080/",
          "height": 206
        },
        "id": "gVmmt53YoT1D",
        "outputId": "7d34200d-5db2-48de-dfca-b498f549ec25"
      },
      "execution_count": 7,
      "outputs": [
        {
          "output_type": "execute_result",
          "data": {
            "text/plain": [
              "         name rating          reviews company_type  \\\n",
              "0         TCS    3.9    (44k Reviews)       Public   \n",
              "1   Accenture    4.2    (30k Reviews)       Public   \n",
              "2   Cognizant    4.0  (26.8k Reviews)      Private   \n",
              "3  ICICI Bank    4.0  (32.5k Reviews)       Public   \n",
              "4       Wipro    3.9  (25.5k Reviews)       Public   \n",
              "\n",
              "                              Head_Quarters   Company_Age  \\\n",
              "0             Mumbai,Maharashtra + 257 more  54 years old   \n",
              "1                         Dublin + 137 more  33 years old   \n",
              "2            Teaneck. New Jersey. + 89 more  28 years old   \n",
              "3            Mumbai,Maharashtra + 1024 more  28 years old   \n",
              "4  Bangalore/Bengaluru,Karnataka + 261 more  77 years old   \n",
              "\n",
              "              No_of_Employee  \n",
              "0  1 Lakh+ Employees (India)  \n",
              "1  1 Lakh+ Employees (India)  \n",
              "2  1 Lakh+ Employees (India)  \n",
              "3  1 Lakh+ Employees (India)  \n",
              "4  1 Lakh+ Employees (India)  "
            ],
            "text/html": [
              "\n",
              "  <div id=\"df-19df9625-0617-43cf-a19f-ef3ece68517c\">\n",
              "    <div class=\"colab-df-container\">\n",
              "      <div>\n",
              "<style scoped>\n",
              "    .dataframe tbody tr th:only-of-type {\n",
              "        vertical-align: middle;\n",
              "    }\n",
              "\n",
              "    .dataframe tbody tr th {\n",
              "        vertical-align: top;\n",
              "    }\n",
              "\n",
              "    .dataframe thead th {\n",
              "        text-align: right;\n",
              "    }\n",
              "</style>\n",
              "<table border=\"1\" class=\"dataframe\">\n",
              "  <thead>\n",
              "    <tr style=\"text-align: right;\">\n",
              "      <th></th>\n",
              "      <th>name</th>\n",
              "      <th>rating</th>\n",
              "      <th>reviews</th>\n",
              "      <th>company_type</th>\n",
              "      <th>Head_Quarters</th>\n",
              "      <th>Company_Age</th>\n",
              "      <th>No_of_Employee</th>\n",
              "    </tr>\n",
              "  </thead>\n",
              "  <tbody>\n",
              "    <tr>\n",
              "      <th>0</th>\n",
              "      <td>TCS</td>\n",
              "      <td>3.9</td>\n",
              "      <td>(44k Reviews)</td>\n",
              "      <td>Public</td>\n",
              "      <td>Mumbai,Maharashtra + 257 more</td>\n",
              "      <td>54 years old</td>\n",
              "      <td>1 Lakh+ Employees (India)</td>\n",
              "    </tr>\n",
              "    <tr>\n",
              "      <th>1</th>\n",
              "      <td>Accenture</td>\n",
              "      <td>4.2</td>\n",
              "      <td>(30k Reviews)</td>\n",
              "      <td>Public</td>\n",
              "      <td>Dublin + 137 more</td>\n",
              "      <td>33 years old</td>\n",
              "      <td>1 Lakh+ Employees (India)</td>\n",
              "    </tr>\n",
              "    <tr>\n",
              "      <th>2</th>\n",
              "      <td>Cognizant</td>\n",
              "      <td>4.0</td>\n",
              "      <td>(26.8k Reviews)</td>\n",
              "      <td>Private</td>\n",
              "      <td>Teaneck. New Jersey. + 89 more</td>\n",
              "      <td>28 years old</td>\n",
              "      <td>1 Lakh+ Employees (India)</td>\n",
              "    </tr>\n",
              "    <tr>\n",
              "      <th>3</th>\n",
              "      <td>ICICI Bank</td>\n",
              "      <td>4.0</td>\n",
              "      <td>(32.5k Reviews)</td>\n",
              "      <td>Public</td>\n",
              "      <td>Mumbai,Maharashtra + 1024 more</td>\n",
              "      <td>28 years old</td>\n",
              "      <td>1 Lakh+ Employees (India)</td>\n",
              "    </tr>\n",
              "    <tr>\n",
              "      <th>4</th>\n",
              "      <td>Wipro</td>\n",
              "      <td>3.9</td>\n",
              "      <td>(25.5k Reviews)</td>\n",
              "      <td>Public</td>\n",
              "      <td>Bangalore/Bengaluru,Karnataka + 261 more</td>\n",
              "      <td>77 years old</td>\n",
              "      <td>1 Lakh+ Employees (India)</td>\n",
              "    </tr>\n",
              "  </tbody>\n",
              "</table>\n",
              "</div>\n",
              "      <button class=\"colab-df-convert\" onclick=\"convertToInteractive('df-19df9625-0617-43cf-a19f-ef3ece68517c')\"\n",
              "              title=\"Convert this dataframe to an interactive table.\"\n",
              "              style=\"display:none;\">\n",
              "        \n",
              "  <svg xmlns=\"http://www.w3.org/2000/svg\" height=\"24px\"viewBox=\"0 0 24 24\"\n",
              "       width=\"24px\">\n",
              "    <path d=\"M0 0h24v24H0V0z\" fill=\"none\"/>\n",
              "    <path d=\"M18.56 5.44l.94 2.06.94-2.06 2.06-.94-2.06-.94-.94-2.06-.94 2.06-2.06.94zm-11 1L8.5 8.5l.94-2.06 2.06-.94-2.06-.94L8.5 2.5l-.94 2.06-2.06.94zm10 10l.94 2.06.94-2.06 2.06-.94-2.06-.94-.94-2.06-.94 2.06-2.06.94z\"/><path d=\"M17.41 7.96l-1.37-1.37c-.4-.4-.92-.59-1.43-.59-.52 0-1.04.2-1.43.59L10.3 9.45l-7.72 7.72c-.78.78-.78 2.05 0 2.83L4 21.41c.39.39.9.59 1.41.59.51 0 1.02-.2 1.41-.59l7.78-7.78 2.81-2.81c.8-.78.8-2.07 0-2.86zM5.41 20L4 18.59l7.72-7.72 1.47 1.35L5.41 20z\"/>\n",
              "  </svg>\n",
              "      </button>\n",
              "      \n",
              "  <style>\n",
              "    .colab-df-container {\n",
              "      display:flex;\n",
              "      flex-wrap:wrap;\n",
              "      gap: 12px;\n",
              "    }\n",
              "\n",
              "    .colab-df-convert {\n",
              "      background-color: #E8F0FE;\n",
              "      border: none;\n",
              "      border-radius: 50%;\n",
              "      cursor: pointer;\n",
              "      display: none;\n",
              "      fill: #1967D2;\n",
              "      height: 32px;\n",
              "      padding: 0 0 0 0;\n",
              "      width: 32px;\n",
              "    }\n",
              "\n",
              "    .colab-df-convert:hover {\n",
              "      background-color: #E2EBFA;\n",
              "      box-shadow: 0px 1px 2px rgba(60, 64, 67, 0.3), 0px 1px 3px 1px rgba(60, 64, 67, 0.15);\n",
              "      fill: #174EA6;\n",
              "    }\n",
              "\n",
              "    [theme=dark] .colab-df-convert {\n",
              "      background-color: #3B4455;\n",
              "      fill: #D2E3FC;\n",
              "    }\n",
              "\n",
              "    [theme=dark] .colab-df-convert:hover {\n",
              "      background-color: #434B5C;\n",
              "      box-shadow: 0px 1px 3px 1px rgba(0, 0, 0, 0.15);\n",
              "      filter: drop-shadow(0px 1px 2px rgba(0, 0, 0, 0.3));\n",
              "      fill: #FFFFFF;\n",
              "    }\n",
              "  </style>\n",
              "\n",
              "      <script>\n",
              "        const buttonEl =\n",
              "          document.querySelector('#df-19df9625-0617-43cf-a19f-ef3ece68517c button.colab-df-convert');\n",
              "        buttonEl.style.display =\n",
              "          google.colab.kernel.accessAllowed ? 'block' : 'none';\n",
              "\n",
              "        async function convertToInteractive(key) {\n",
              "          const element = document.querySelector('#df-19df9625-0617-43cf-a19f-ef3ece68517c');\n",
              "          const dataTable =\n",
              "            await google.colab.kernel.invokeFunction('convertToInteractive',\n",
              "                                                     [key], {});\n",
              "          if (!dataTable) return;\n",
              "\n",
              "          const docLinkHtml = 'Like what you see? Visit the ' +\n",
              "            '<a target=\"_blank\" href=https://colab.research.google.com/notebooks/data_table.ipynb>data table notebook</a>'\n",
              "            + ' to learn more about interactive tables.';\n",
              "          element.innerHTML = '';\n",
              "          dataTable['output_type'] = 'display_data';\n",
              "          await google.colab.output.renderOutput(dataTable, element);\n",
              "          const docLink = document.createElement('div');\n",
              "          docLink.innerHTML = docLinkHtml;\n",
              "          element.appendChild(docLink);\n",
              "        }\n",
              "      </script>\n",
              "    </div>\n",
              "  </div>\n",
              "  "
            ]
          },
          "metadata": {},
          "execution_count": 7
        }
      ]
    },
    {
      "cell_type": "markdown",
      "source": [
        "## Running code to extract data from all the pages of the website"
      ],
      "metadata": {
        "id": "TeivdaeIotDT"
      }
    },
    {
      "cell_type": "code",
      "source": [
        "final=pd.DataFrame()\n",
        "\n",
        "#for j in range(1,1001): total pages on the website\n",
        "for j in range(1,2): # simulating for two pages only\n",
        "  webpage=requests.get('https://www.ambitionbox.com/list-of-companies?page={}'.format(j)).text\n",
        "  soup=BeautifulSoup(webpage,'lxml')\n",
        "  company=soup.find_all('div',class_='company-content-wrapper')\n",
        "  name=[]\n",
        "  rating=[]\n",
        "  reviews=[]\n",
        "  ctype=[]\n",
        "  hq=[]\n",
        "  how_old=[]\n",
        "  no_of_employee=[]\n",
        "\n",
        "  for i in company:\n",
        "\n",
        "    try:\n",
        "       name.append(i.find('h2').text.strip())\n",
        "    except:\n",
        "       name.append(np.nan)\n",
        "\n",
        "    try:\n",
        "       rating.append(i.find('p',class_='rating').text.strip())\n",
        "    except:\n",
        "       rating.append(np.nan)\n",
        "   \n",
        "    try:\n",
        "      reviews.append(i.find('a' , class_='review-count').text.strip())\n",
        "    except:\n",
        "      reviews.append(np.nan)\n",
        "\n",
        "    try:\n",
        "      ctype.append(i.find_all('p',class_='infoEntity')[0].text.strip())\n",
        "    except:\n",
        "      ctype.append(np.nan)\n",
        "\n",
        "    try:\n",
        "      hq.append(i.find_all('p',class_='infoEntity')[1].text.strip())\n",
        "    except:\n",
        "      hq.append(np.nan)\n",
        "    \n",
        "    try:\n",
        "      how_old.append(i.find_all('p',class_='infoEntity')[2].text.strip())\n",
        "    except:\n",
        "      how_old.append(np.nan)\n",
        "    \n",
        "    try:\n",
        "      no_of_employee.append(i.find_all('p',class_='infoEntity')[3].text.strip())\n",
        "    except:\n",
        "      no_of_employee.append(np.nan)\n",
        "    \n",
        "  df=pd.DataFrame({'name':name,\n",
        "    'rating':rating,\n",
        "    'reviews':reviews,\n",
        "    'company_type':ctype,\n",
        "    'Head_Quarters':hq,\n",
        "    'Company_Age':how_old,\n",
        "    'No_of_Employee':no_of_employee,\n",
        "    })\n",
        "  \n",
        "  final=final.append(df,ignore_index=True)"
      ],
      "metadata": {
        "id": "x_VxO7SCox50"
      },
      "execution_count": 8,
      "outputs": []
    },
    {
      "cell_type": "code",
      "source": [
        "final.head()"
      ],
      "metadata": {
        "colab": {
          "base_uri": "https://localhost:8080/",
          "height": 206
        },
        "id": "o4QA3kQyq-W3",
        "outputId": "c3f8822f-2e00-40ff-d6be-9c432f016a64"
      },
      "execution_count": 9,
      "outputs": [
        {
          "output_type": "execute_result",
          "data": {
            "text/plain": [
              "         name rating          reviews company_type  \\\n",
              "0         TCS    3.9    (44k Reviews)       Public   \n",
              "1   Accenture    4.2    (30k Reviews)       Public   \n",
              "2   Cognizant    4.0  (26.8k Reviews)      Private   \n",
              "3  ICICI Bank    4.0  (32.5k Reviews)       Public   \n",
              "4       Wipro    3.9  (25.5k Reviews)       Public   \n",
              "\n",
              "                              Head_Quarters   Company_Age  \\\n",
              "0             Mumbai,Maharashtra + 257 more  54 years old   \n",
              "1                         Dublin + 137 more  33 years old   \n",
              "2            Teaneck. New Jersey. + 89 more  28 years old   \n",
              "3            Mumbai,Maharashtra + 1024 more  28 years old   \n",
              "4  Bangalore/Bengaluru,Karnataka + 261 more  77 years old   \n",
              "\n",
              "              No_of_Employee  \n",
              "0  1 Lakh+ Employees (India)  \n",
              "1  1 Lakh+ Employees (India)  \n",
              "2  1 Lakh+ Employees (India)  \n",
              "3  1 Lakh+ Employees (India)  \n",
              "4  1 Lakh+ Employees (India)  "
            ],
            "text/html": [
              "\n",
              "  <div id=\"df-8b38a217-dcfe-4497-92ed-62f07c27697f\">\n",
              "    <div class=\"colab-df-container\">\n",
              "      <div>\n",
              "<style scoped>\n",
              "    .dataframe tbody tr th:only-of-type {\n",
              "        vertical-align: middle;\n",
              "    }\n",
              "\n",
              "    .dataframe tbody tr th {\n",
              "        vertical-align: top;\n",
              "    }\n",
              "\n",
              "    .dataframe thead th {\n",
              "        text-align: right;\n",
              "    }\n",
              "</style>\n",
              "<table border=\"1\" class=\"dataframe\">\n",
              "  <thead>\n",
              "    <tr style=\"text-align: right;\">\n",
              "      <th></th>\n",
              "      <th>name</th>\n",
              "      <th>rating</th>\n",
              "      <th>reviews</th>\n",
              "      <th>company_type</th>\n",
              "      <th>Head_Quarters</th>\n",
              "      <th>Company_Age</th>\n",
              "      <th>No_of_Employee</th>\n",
              "    </tr>\n",
              "  </thead>\n",
              "  <tbody>\n",
              "    <tr>\n",
              "      <th>0</th>\n",
              "      <td>TCS</td>\n",
              "      <td>3.9</td>\n",
              "      <td>(44k Reviews)</td>\n",
              "      <td>Public</td>\n",
              "      <td>Mumbai,Maharashtra + 257 more</td>\n",
              "      <td>54 years old</td>\n",
              "      <td>1 Lakh+ Employees (India)</td>\n",
              "    </tr>\n",
              "    <tr>\n",
              "      <th>1</th>\n",
              "      <td>Accenture</td>\n",
              "      <td>4.2</td>\n",
              "      <td>(30k Reviews)</td>\n",
              "      <td>Public</td>\n",
              "      <td>Dublin + 137 more</td>\n",
              "      <td>33 years old</td>\n",
              "      <td>1 Lakh+ Employees (India)</td>\n",
              "    </tr>\n",
              "    <tr>\n",
              "      <th>2</th>\n",
              "      <td>Cognizant</td>\n",
              "      <td>4.0</td>\n",
              "      <td>(26.8k Reviews)</td>\n",
              "      <td>Private</td>\n",
              "      <td>Teaneck. New Jersey. + 89 more</td>\n",
              "      <td>28 years old</td>\n",
              "      <td>1 Lakh+ Employees (India)</td>\n",
              "    </tr>\n",
              "    <tr>\n",
              "      <th>3</th>\n",
              "      <td>ICICI Bank</td>\n",
              "      <td>4.0</td>\n",
              "      <td>(32.5k Reviews)</td>\n",
              "      <td>Public</td>\n",
              "      <td>Mumbai,Maharashtra + 1024 more</td>\n",
              "      <td>28 years old</td>\n",
              "      <td>1 Lakh+ Employees (India)</td>\n",
              "    </tr>\n",
              "    <tr>\n",
              "      <th>4</th>\n",
              "      <td>Wipro</td>\n",
              "      <td>3.9</td>\n",
              "      <td>(25.5k Reviews)</td>\n",
              "      <td>Public</td>\n",
              "      <td>Bangalore/Bengaluru,Karnataka + 261 more</td>\n",
              "      <td>77 years old</td>\n",
              "      <td>1 Lakh+ Employees (India)</td>\n",
              "    </tr>\n",
              "  </tbody>\n",
              "</table>\n",
              "</div>\n",
              "      <button class=\"colab-df-convert\" onclick=\"convertToInteractive('df-8b38a217-dcfe-4497-92ed-62f07c27697f')\"\n",
              "              title=\"Convert this dataframe to an interactive table.\"\n",
              "              style=\"display:none;\">\n",
              "        \n",
              "  <svg xmlns=\"http://www.w3.org/2000/svg\" height=\"24px\"viewBox=\"0 0 24 24\"\n",
              "       width=\"24px\">\n",
              "    <path d=\"M0 0h24v24H0V0z\" fill=\"none\"/>\n",
              "    <path d=\"M18.56 5.44l.94 2.06.94-2.06 2.06-.94-2.06-.94-.94-2.06-.94 2.06-2.06.94zm-11 1L8.5 8.5l.94-2.06 2.06-.94-2.06-.94L8.5 2.5l-.94 2.06-2.06.94zm10 10l.94 2.06.94-2.06 2.06-.94-2.06-.94-.94-2.06-.94 2.06-2.06.94z\"/><path d=\"M17.41 7.96l-1.37-1.37c-.4-.4-.92-.59-1.43-.59-.52 0-1.04.2-1.43.59L10.3 9.45l-7.72 7.72c-.78.78-.78 2.05 0 2.83L4 21.41c.39.39.9.59 1.41.59.51 0 1.02-.2 1.41-.59l7.78-7.78 2.81-2.81c.8-.78.8-2.07 0-2.86zM5.41 20L4 18.59l7.72-7.72 1.47 1.35L5.41 20z\"/>\n",
              "  </svg>\n",
              "      </button>\n",
              "      \n",
              "  <style>\n",
              "    .colab-df-container {\n",
              "      display:flex;\n",
              "      flex-wrap:wrap;\n",
              "      gap: 12px;\n",
              "    }\n",
              "\n",
              "    .colab-df-convert {\n",
              "      background-color: #E8F0FE;\n",
              "      border: none;\n",
              "      border-radius: 50%;\n",
              "      cursor: pointer;\n",
              "      display: none;\n",
              "      fill: #1967D2;\n",
              "      height: 32px;\n",
              "      padding: 0 0 0 0;\n",
              "      width: 32px;\n",
              "    }\n",
              "\n",
              "    .colab-df-convert:hover {\n",
              "      background-color: #E2EBFA;\n",
              "      box-shadow: 0px 1px 2px rgba(60, 64, 67, 0.3), 0px 1px 3px 1px rgba(60, 64, 67, 0.15);\n",
              "      fill: #174EA6;\n",
              "    }\n",
              "\n",
              "    [theme=dark] .colab-df-convert {\n",
              "      background-color: #3B4455;\n",
              "      fill: #D2E3FC;\n",
              "    }\n",
              "\n",
              "    [theme=dark] .colab-df-convert:hover {\n",
              "      background-color: #434B5C;\n",
              "      box-shadow: 0px 1px 3px 1px rgba(0, 0, 0, 0.15);\n",
              "      filter: drop-shadow(0px 1px 2px rgba(0, 0, 0, 0.3));\n",
              "      fill: #FFFFFF;\n",
              "    }\n",
              "  </style>\n",
              "\n",
              "      <script>\n",
              "        const buttonEl =\n",
              "          document.querySelector('#df-8b38a217-dcfe-4497-92ed-62f07c27697f button.colab-df-convert');\n",
              "        buttonEl.style.display =\n",
              "          google.colab.kernel.accessAllowed ? 'block' : 'none';\n",
              "\n",
              "        async function convertToInteractive(key) {\n",
              "          const element = document.querySelector('#df-8b38a217-dcfe-4497-92ed-62f07c27697f');\n",
              "          const dataTable =\n",
              "            await google.colab.kernel.invokeFunction('convertToInteractive',\n",
              "                                                     [key], {});\n",
              "          if (!dataTable) return;\n",
              "\n",
              "          const docLinkHtml = 'Like what you see? Visit the ' +\n",
              "            '<a target=\"_blank\" href=https://colab.research.google.com/notebooks/data_table.ipynb>data table notebook</a>'\n",
              "            + ' to learn more about interactive tables.';\n",
              "          element.innerHTML = '';\n",
              "          dataTable['output_type'] = 'display_data';\n",
              "          await google.colab.output.renderOutput(dataTable, element);\n",
              "          const docLink = document.createElement('div');\n",
              "          docLink.innerHTML = docLinkHtml;\n",
              "          element.appendChild(docLink);\n",
              "        }\n",
              "      </script>\n",
              "    </div>\n",
              "  </div>\n",
              "  "
            ]
          },
          "metadata": {},
          "execution_count": 9
        }
      ]
    }
  ]
}